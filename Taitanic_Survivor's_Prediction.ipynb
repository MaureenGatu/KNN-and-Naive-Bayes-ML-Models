{
  "nbformat": 4,
  "nbformat_minor": 0,
  "metadata": {
    "colab": {
      "name": "Taitanic Survivor's Prediction",
      "provenance": [],
      "collapsed_sections": [
        "kLG2VTrnTvYL",
        "XecOwPNorl2W",
        "J4wfHZwQrs-t",
        "a9BPYqunry97",
        "7KMRBJ7zr9HD",
        "zSGyg6kWsBUl",
        "iUNbvIvnT7ep",
        "OI3P3YnHUEBk",
        "ckfufNrcUHeH",
        "6XC_g-zKxe-r",
        "FlBMxEDBUc9B",
        "rF2ABPsHUtbZ",
        "vTbdjSrhVIiT",
        "lQ2G4ZPDVOXE",
        "xrmHVMVsVS--",
        "HPQviDmNtta8",
        "qjFHK1CKty7o",
        "HSsicSdvt4Zs"
      ],
      "include_colab_link": true
    },
    "kernelspec": {
      "name": "python3",
      "display_name": "Python 3"
    }
  },
  "cells": [
    {
      "cell_type": "markdown",
      "metadata": {
        "id": "view-in-github",
        "colab_type": "text"
      },
      "source": [
        "<a href=\"https://colab.research.google.com/github/MaureenGatu/KNN-and-Naive-Bayes-ML-Models/blob/main/Taitanic_Survivor's_Prediction.ipynb\" target=\"_parent\"><img src=\"https://colab.research.google.com/assets/colab-badge.svg\" alt=\"Open In Colab\"/></a>"
      ]
    },
    {
      "cell_type": "markdown",
      "metadata": {
        "id": "1qqgL4FTCh_2"
      },
      "source": [
        "<font color=\"green\">*To start working on this notebook, or any other notebook that we will use in the Moringa Data Science Course, we will need to save our own copy of it. We can do this by clicking File > Save a Copy in Drive. We will then be able to make edits to our own copy of this notebook.*</font>"
      ]
    },
    {
      "cell_type": "markdown",
      "metadata": {
        "id": "xMxtPsqcTsSH"
      },
      "source": [
        "# Python Programming: Naive Bayes - Exploratory Data Analysis"
      ]
    },
    {
      "cell_type": "markdown",
      "metadata": {
        "id": "kLG2VTrnTvYL"
      },
      "source": [
        "## 1. Defining the Question"
      ]
    },
    {
      "cell_type": "markdown",
      "metadata": {
        "id": "XecOwPNorl2W"
      },
      "source": [
        "### a) Specifying the Data Analytic Question"
      ]
    },
    {
      "cell_type": "markdown",
      "metadata": {
        "id": "9ozBnKfehSAw"
      },
      "source": [
        "> From the two taitanic passenger's data, create a model that predicts whether the specific passenger survived or not."
      ]
    },
    {
      "cell_type": "markdown",
      "metadata": {
        "id": "J4wfHZwQrs-t"
      },
      "source": [
        "### b) Defining the Metric for Success"
      ]
    },
    {
      "cell_type": "markdown",
      "metadata": {
        "id": "N7cUmlRqS1o5"
      },
      "source": [
        "\n",
        "\n",
        "> Develop a model with at least 80% accurate.\n",
        "\n"
      ]
    },
    {
      "cell_type": "markdown",
      "metadata": {
        "id": "a9BPYqunry97"
      },
      "source": [
        "### c) Understanding the context "
      ]
    },
    {
      "cell_type": "markdown",
      "metadata": {
        "id": "REp4vzN2TCAi"
      },
      "source": [
        "At 11.40pm on the night of 14 April 1912, on her maiden voyage from Southampton to New York, the RMS Titanic struck the iceberg that would ultimately lead to the sinking of the ship less than 3 hours later.\n",
        "\n",
        "At around 2.20am on the morning of 15 April, the Titanic disappeared beneath the surface of the Atlantic Ocean, a disaster that resulted in the loss of more than 1,500 lives, almost two-thirds of the people on board.\n",
        "\n",
        "The variables on our extracted dataset are pclass, survived, name, age, embarked, ticke and sex. pclass refers to passenger class (1st, 2nd, 3rd),\n",
        "and is a proxy for socio-economic class. Age is in years, and some infants had\n",
        "fractional values."
      ]
    },
    {
      "cell_type": "markdown",
      "metadata": {
        "id": "7KMRBJ7zr9HD"
      },
      "source": [
        "### d) Recording the Experimental Design"
      ]
    },
    {
      "cell_type": "markdown",
      "metadata": {
        "id": "qeETM2KoYS6y"
      },
      "source": [
        "1. Importing the libraries\n",
        "\n",
        "2. Loading the data\n",
        "\n",
        "3. Data Cleaning\n",
        "\n",
        "4. Feature Engineering \n",
        "\n",
        "6. Exploratory analysis\n",
        "\n",
        "7. k-Nearest Neighbours Model\n",
        "\n",
        "8.  Conclusion"
      ]
    },
    {
      "cell_type": "markdown",
      "metadata": {
        "id": "iUNbvIvnT7ep"
      },
      "source": [
        "## 2. Reading the Data"
      ]
    },
    {
      "cell_type": "code",
      "metadata": {
        "id": "Qesp5sjdlJp0"
      },
      "source": [
        "#Importing the libraries\n",
        "import pandas as pd\n",
        "import numpy as np\n",
        "import matplotlib.pyplot as plt\n",
        "from sklearn.model_selection import train_test_split\n",
        "from sklearn.preprocessing import StandardScaler\n",
        "from sklearn.neighbors import KNeighborsClassifier\n",
        "from pprint import pprint\n",
        "from sklearn.metrics import classification_report, confusion_matrix, mean_squared_error\n",
        "from sklearn import metrics\n",
        "import seaborn as sns"
      ],
      "execution_count": 60,
      "outputs": []
    },
    {
      "cell_type": "code",
      "metadata": {
        "id": "XJn2KjW-WMlG"
      },
      "source": [
        "# Loading the Data from the source i.e. csv\n",
        "# ---\n",
        "url = 'https://archive.org/download/train5_202002/train%20%285%29.csv'\n",
        "url2  = 'https://archive.org/download/test1_202002/test%20%281%29.csv'\n",
        "# ---\n",
        "#\n",
        "df_train = pd.read_csv(url)\n",
        "test_data = pd.read_csv(url2)\n",
        "df_test = test_data.copy(deep = True)"
      ],
      "execution_count": 61,
      "outputs": []
    },
    {
      "cell_type": "markdown",
      "metadata": {
        "id": "OI3P3YnHUEBk"
      },
      "source": [
        "\n",
        "\n",
        "## 3. Checking the Data"
      ]
    },
    {
      "cell_type": "code",
      "metadata": {
        "id": "YjSVNwgptHxY",
        "colab": {
          "base_uri": "https://localhost:8080/"
        },
        "outputId": "d4a3c8a6-6bc7-46c5-d01f-b6cf0050abe3"
      },
      "source": [
        "# Determining the no. of records in our datasets\n",
        "#\n",
        "print('Shape of the train dataset  : ', df_train.shape)\n",
        "print('\\nShape of the test dataset  : ', df_test.shape)"
      ],
      "execution_count": 62,
      "outputs": [
        {
          "output_type": "stream",
          "text": [
            "Shape of the train dataset  :  (891, 12)\n",
            "\n",
            "Shape of the test dataset  :  (418, 11)\n"
          ],
          "name": "stdout"
        }
      ]
    },
    {
      "cell_type": "code",
      "metadata": {
        "id": "xHhTw5eKWr0n",
        "colab": {
          "base_uri": "https://localhost:8080/",
          "height": 0
        },
        "outputId": "d53590f0-4b5b-46e7-9280-285f78048e9e"
      },
      "source": [
        "# Previewing the top of our  train dataset\n",
        "#\n",
        "df_train.head()"
      ],
      "execution_count": 63,
      "outputs": [
        {
          "output_type": "execute_result",
          "data": {
            "text/html": [
              "<div>\n",
              "<style scoped>\n",
              "    .dataframe tbody tr th:only-of-type {\n",
              "        vertical-align: middle;\n",
              "    }\n",
              "\n",
              "    .dataframe tbody tr th {\n",
              "        vertical-align: top;\n",
              "    }\n",
              "\n",
              "    .dataframe thead th {\n",
              "        text-align: right;\n",
              "    }\n",
              "</style>\n",
              "<table border=\"1\" class=\"dataframe\">\n",
              "  <thead>\n",
              "    <tr style=\"text-align: right;\">\n",
              "      <th></th>\n",
              "      <th>PassengerId</th>\n",
              "      <th>Survived</th>\n",
              "      <th>Pclass</th>\n",
              "      <th>Name</th>\n",
              "      <th>Sex</th>\n",
              "      <th>Age</th>\n",
              "      <th>SibSp</th>\n",
              "      <th>Parch</th>\n",
              "      <th>Ticket</th>\n",
              "      <th>Fare</th>\n",
              "      <th>Cabin</th>\n",
              "      <th>Embarked</th>\n",
              "    </tr>\n",
              "  </thead>\n",
              "  <tbody>\n",
              "    <tr>\n",
              "      <th>0</th>\n",
              "      <td>1</td>\n",
              "      <td>0</td>\n",
              "      <td>3</td>\n",
              "      <td>Braund, Mr. Owen Harris</td>\n",
              "      <td>male</td>\n",
              "      <td>22.0</td>\n",
              "      <td>1</td>\n",
              "      <td>0</td>\n",
              "      <td>A/5 21171</td>\n",
              "      <td>7.2500</td>\n",
              "      <td>NaN</td>\n",
              "      <td>S</td>\n",
              "    </tr>\n",
              "    <tr>\n",
              "      <th>1</th>\n",
              "      <td>2</td>\n",
              "      <td>1</td>\n",
              "      <td>1</td>\n",
              "      <td>Cumings, Mrs. John Bradley (Florence Briggs Th...</td>\n",
              "      <td>female</td>\n",
              "      <td>38.0</td>\n",
              "      <td>1</td>\n",
              "      <td>0</td>\n",
              "      <td>PC 17599</td>\n",
              "      <td>71.2833</td>\n",
              "      <td>C85</td>\n",
              "      <td>C</td>\n",
              "    </tr>\n",
              "    <tr>\n",
              "      <th>2</th>\n",
              "      <td>3</td>\n",
              "      <td>1</td>\n",
              "      <td>3</td>\n",
              "      <td>Heikkinen, Miss. Laina</td>\n",
              "      <td>female</td>\n",
              "      <td>26.0</td>\n",
              "      <td>0</td>\n",
              "      <td>0</td>\n",
              "      <td>STON/O2. 3101282</td>\n",
              "      <td>7.9250</td>\n",
              "      <td>NaN</td>\n",
              "      <td>S</td>\n",
              "    </tr>\n",
              "    <tr>\n",
              "      <th>3</th>\n",
              "      <td>4</td>\n",
              "      <td>1</td>\n",
              "      <td>1</td>\n",
              "      <td>Futrelle, Mrs. Jacques Heath (Lily May Peel)</td>\n",
              "      <td>female</td>\n",
              "      <td>35.0</td>\n",
              "      <td>1</td>\n",
              "      <td>0</td>\n",
              "      <td>113803</td>\n",
              "      <td>53.1000</td>\n",
              "      <td>C123</td>\n",
              "      <td>S</td>\n",
              "    </tr>\n",
              "    <tr>\n",
              "      <th>4</th>\n",
              "      <td>5</td>\n",
              "      <td>0</td>\n",
              "      <td>3</td>\n",
              "      <td>Allen, Mr. William Henry</td>\n",
              "      <td>male</td>\n",
              "      <td>35.0</td>\n",
              "      <td>0</td>\n",
              "      <td>0</td>\n",
              "      <td>373450</td>\n",
              "      <td>8.0500</td>\n",
              "      <td>NaN</td>\n",
              "      <td>S</td>\n",
              "    </tr>\n",
              "  </tbody>\n",
              "</table>\n",
              "</div>"
            ],
            "text/plain": [
              "   PassengerId  Survived  Pclass  ...     Fare Cabin  Embarked\n",
              "0            1         0       3  ...   7.2500   NaN         S\n",
              "1            2         1       1  ...  71.2833   C85         C\n",
              "2            3         1       3  ...   7.9250   NaN         S\n",
              "3            4         1       1  ...  53.1000  C123         S\n",
              "4            5         0       3  ...   8.0500   NaN         S\n",
              "\n",
              "[5 rows x 12 columns]"
            ]
          },
          "metadata": {
            "tags": []
          },
          "execution_count": 63
        }
      ]
    },
    {
      "cell_type": "code",
      "metadata": {
        "id": "e9AzGcZFrIIr",
        "colab": {
          "base_uri": "https://localhost:8080/",
          "height": 0
        },
        "outputId": "681568e5-3038-4117-b339-b460a4fc758a"
      },
      "source": [
        "# Previewing the bottom of our  train dataset\n",
        "# \n",
        "df_train.tail()"
      ],
      "execution_count": 64,
      "outputs": [
        {
          "output_type": "execute_result",
          "data": {
            "text/html": [
              "<div>\n",
              "<style scoped>\n",
              "    .dataframe tbody tr th:only-of-type {\n",
              "        vertical-align: middle;\n",
              "    }\n",
              "\n",
              "    .dataframe tbody tr th {\n",
              "        vertical-align: top;\n",
              "    }\n",
              "\n",
              "    .dataframe thead th {\n",
              "        text-align: right;\n",
              "    }\n",
              "</style>\n",
              "<table border=\"1\" class=\"dataframe\">\n",
              "  <thead>\n",
              "    <tr style=\"text-align: right;\">\n",
              "      <th></th>\n",
              "      <th>PassengerId</th>\n",
              "      <th>Survived</th>\n",
              "      <th>Pclass</th>\n",
              "      <th>Name</th>\n",
              "      <th>Sex</th>\n",
              "      <th>Age</th>\n",
              "      <th>SibSp</th>\n",
              "      <th>Parch</th>\n",
              "      <th>Ticket</th>\n",
              "      <th>Fare</th>\n",
              "      <th>Cabin</th>\n",
              "      <th>Embarked</th>\n",
              "    </tr>\n",
              "  </thead>\n",
              "  <tbody>\n",
              "    <tr>\n",
              "      <th>886</th>\n",
              "      <td>887</td>\n",
              "      <td>0</td>\n",
              "      <td>2</td>\n",
              "      <td>Montvila, Rev. Juozas</td>\n",
              "      <td>male</td>\n",
              "      <td>27.0</td>\n",
              "      <td>0</td>\n",
              "      <td>0</td>\n",
              "      <td>211536</td>\n",
              "      <td>13.00</td>\n",
              "      <td>NaN</td>\n",
              "      <td>S</td>\n",
              "    </tr>\n",
              "    <tr>\n",
              "      <th>887</th>\n",
              "      <td>888</td>\n",
              "      <td>1</td>\n",
              "      <td>1</td>\n",
              "      <td>Graham, Miss. Margaret Edith</td>\n",
              "      <td>female</td>\n",
              "      <td>19.0</td>\n",
              "      <td>0</td>\n",
              "      <td>0</td>\n",
              "      <td>112053</td>\n",
              "      <td>30.00</td>\n",
              "      <td>B42</td>\n",
              "      <td>S</td>\n",
              "    </tr>\n",
              "    <tr>\n",
              "      <th>888</th>\n",
              "      <td>889</td>\n",
              "      <td>0</td>\n",
              "      <td>3</td>\n",
              "      <td>Johnston, Miss. Catherine Helen \"Carrie\"</td>\n",
              "      <td>female</td>\n",
              "      <td>NaN</td>\n",
              "      <td>1</td>\n",
              "      <td>2</td>\n",
              "      <td>W./C. 6607</td>\n",
              "      <td>23.45</td>\n",
              "      <td>NaN</td>\n",
              "      <td>S</td>\n",
              "    </tr>\n",
              "    <tr>\n",
              "      <th>889</th>\n",
              "      <td>890</td>\n",
              "      <td>1</td>\n",
              "      <td>1</td>\n",
              "      <td>Behr, Mr. Karl Howell</td>\n",
              "      <td>male</td>\n",
              "      <td>26.0</td>\n",
              "      <td>0</td>\n",
              "      <td>0</td>\n",
              "      <td>111369</td>\n",
              "      <td>30.00</td>\n",
              "      <td>C148</td>\n",
              "      <td>C</td>\n",
              "    </tr>\n",
              "    <tr>\n",
              "      <th>890</th>\n",
              "      <td>891</td>\n",
              "      <td>0</td>\n",
              "      <td>3</td>\n",
              "      <td>Dooley, Mr. Patrick</td>\n",
              "      <td>male</td>\n",
              "      <td>32.0</td>\n",
              "      <td>0</td>\n",
              "      <td>0</td>\n",
              "      <td>370376</td>\n",
              "      <td>7.75</td>\n",
              "      <td>NaN</td>\n",
              "      <td>Q</td>\n",
              "    </tr>\n",
              "  </tbody>\n",
              "</table>\n",
              "</div>"
            ],
            "text/plain": [
              "     PassengerId  Survived  Pclass  ...   Fare Cabin  Embarked\n",
              "886          887         0       2  ...  13.00   NaN         S\n",
              "887          888         1       1  ...  30.00   B42         S\n",
              "888          889         0       3  ...  23.45   NaN         S\n",
              "889          890         1       1  ...  30.00  C148         C\n",
              "890          891         0       3  ...   7.75   NaN         Q\n",
              "\n",
              "[5 rows x 12 columns]"
            ]
          },
          "metadata": {
            "tags": []
          },
          "execution_count": 64
        }
      ]
    },
    {
      "cell_type": "code",
      "metadata": {
        "colab": {
          "base_uri": "https://localhost:8080/",
          "height": 0
        },
        "id": "dvSqWca-nBU1",
        "outputId": "d39a74ed-fa05-4ebc-c76d-ecde8cdba1b7"
      },
      "source": [
        "# Previewing the top of our  test dataset\n",
        "#\n",
        "df_test.head()"
      ],
      "execution_count": 65,
      "outputs": [
        {
          "output_type": "execute_result",
          "data": {
            "text/html": [
              "<div>\n",
              "<style scoped>\n",
              "    .dataframe tbody tr th:only-of-type {\n",
              "        vertical-align: middle;\n",
              "    }\n",
              "\n",
              "    .dataframe tbody tr th {\n",
              "        vertical-align: top;\n",
              "    }\n",
              "\n",
              "    .dataframe thead th {\n",
              "        text-align: right;\n",
              "    }\n",
              "</style>\n",
              "<table border=\"1\" class=\"dataframe\">\n",
              "  <thead>\n",
              "    <tr style=\"text-align: right;\">\n",
              "      <th></th>\n",
              "      <th>PassengerId</th>\n",
              "      <th>Pclass</th>\n",
              "      <th>Name</th>\n",
              "      <th>Sex</th>\n",
              "      <th>Age</th>\n",
              "      <th>SibSp</th>\n",
              "      <th>Parch</th>\n",
              "      <th>Ticket</th>\n",
              "      <th>Fare</th>\n",
              "      <th>Cabin</th>\n",
              "      <th>Embarked</th>\n",
              "    </tr>\n",
              "  </thead>\n",
              "  <tbody>\n",
              "    <tr>\n",
              "      <th>0</th>\n",
              "      <td>892</td>\n",
              "      <td>3</td>\n",
              "      <td>Kelly, Mr. James</td>\n",
              "      <td>male</td>\n",
              "      <td>34.5</td>\n",
              "      <td>0</td>\n",
              "      <td>0</td>\n",
              "      <td>330911</td>\n",
              "      <td>7.8292</td>\n",
              "      <td>NaN</td>\n",
              "      <td>Q</td>\n",
              "    </tr>\n",
              "    <tr>\n",
              "      <th>1</th>\n",
              "      <td>893</td>\n",
              "      <td>3</td>\n",
              "      <td>Wilkes, Mrs. James (Ellen Needs)</td>\n",
              "      <td>female</td>\n",
              "      <td>47.0</td>\n",
              "      <td>1</td>\n",
              "      <td>0</td>\n",
              "      <td>363272</td>\n",
              "      <td>7.0000</td>\n",
              "      <td>NaN</td>\n",
              "      <td>S</td>\n",
              "    </tr>\n",
              "    <tr>\n",
              "      <th>2</th>\n",
              "      <td>894</td>\n",
              "      <td>2</td>\n",
              "      <td>Myles, Mr. Thomas Francis</td>\n",
              "      <td>male</td>\n",
              "      <td>62.0</td>\n",
              "      <td>0</td>\n",
              "      <td>0</td>\n",
              "      <td>240276</td>\n",
              "      <td>9.6875</td>\n",
              "      <td>NaN</td>\n",
              "      <td>Q</td>\n",
              "    </tr>\n",
              "    <tr>\n",
              "      <th>3</th>\n",
              "      <td>895</td>\n",
              "      <td>3</td>\n",
              "      <td>Wirz, Mr. Albert</td>\n",
              "      <td>male</td>\n",
              "      <td>27.0</td>\n",
              "      <td>0</td>\n",
              "      <td>0</td>\n",
              "      <td>315154</td>\n",
              "      <td>8.6625</td>\n",
              "      <td>NaN</td>\n",
              "      <td>S</td>\n",
              "    </tr>\n",
              "    <tr>\n",
              "      <th>4</th>\n",
              "      <td>896</td>\n",
              "      <td>3</td>\n",
              "      <td>Hirvonen, Mrs. Alexander (Helga E Lindqvist)</td>\n",
              "      <td>female</td>\n",
              "      <td>22.0</td>\n",
              "      <td>1</td>\n",
              "      <td>1</td>\n",
              "      <td>3101298</td>\n",
              "      <td>12.2875</td>\n",
              "      <td>NaN</td>\n",
              "      <td>S</td>\n",
              "    </tr>\n",
              "  </tbody>\n",
              "</table>\n",
              "</div>"
            ],
            "text/plain": [
              "   PassengerId  Pclass  ... Cabin Embarked\n",
              "0          892       3  ...   NaN        Q\n",
              "1          893       3  ...   NaN        S\n",
              "2          894       2  ...   NaN        Q\n",
              "3          895       3  ...   NaN        S\n",
              "4          896       3  ...   NaN        S\n",
              "\n",
              "[5 rows x 11 columns]"
            ]
          },
          "metadata": {
            "tags": []
          },
          "execution_count": 65
        }
      ]
    },
    {
      "cell_type": "code",
      "metadata": {
        "colab": {
          "base_uri": "https://localhost:8080/",
          "height": 0
        },
        "id": "RdTKys6LnF9Y",
        "outputId": "e13739c8-66a5-441a-e4a0-588a8040bad7"
      },
      "source": [
        "# Previewing the bottom of our  test dataset\n",
        "# \n",
        "df_test.tail()"
      ],
      "execution_count": 66,
      "outputs": [
        {
          "output_type": "execute_result",
          "data": {
            "text/html": [
              "<div>\n",
              "<style scoped>\n",
              "    .dataframe tbody tr th:only-of-type {\n",
              "        vertical-align: middle;\n",
              "    }\n",
              "\n",
              "    .dataframe tbody tr th {\n",
              "        vertical-align: top;\n",
              "    }\n",
              "\n",
              "    .dataframe thead th {\n",
              "        text-align: right;\n",
              "    }\n",
              "</style>\n",
              "<table border=\"1\" class=\"dataframe\">\n",
              "  <thead>\n",
              "    <tr style=\"text-align: right;\">\n",
              "      <th></th>\n",
              "      <th>PassengerId</th>\n",
              "      <th>Pclass</th>\n",
              "      <th>Name</th>\n",
              "      <th>Sex</th>\n",
              "      <th>Age</th>\n",
              "      <th>SibSp</th>\n",
              "      <th>Parch</th>\n",
              "      <th>Ticket</th>\n",
              "      <th>Fare</th>\n",
              "      <th>Cabin</th>\n",
              "      <th>Embarked</th>\n",
              "    </tr>\n",
              "  </thead>\n",
              "  <tbody>\n",
              "    <tr>\n",
              "      <th>413</th>\n",
              "      <td>1305</td>\n",
              "      <td>3</td>\n",
              "      <td>Spector, Mr. Woolf</td>\n",
              "      <td>male</td>\n",
              "      <td>NaN</td>\n",
              "      <td>0</td>\n",
              "      <td>0</td>\n",
              "      <td>A.5. 3236</td>\n",
              "      <td>8.0500</td>\n",
              "      <td>NaN</td>\n",
              "      <td>S</td>\n",
              "    </tr>\n",
              "    <tr>\n",
              "      <th>414</th>\n",
              "      <td>1306</td>\n",
              "      <td>1</td>\n",
              "      <td>Oliva y Ocana, Dona. Fermina</td>\n",
              "      <td>female</td>\n",
              "      <td>39.0</td>\n",
              "      <td>0</td>\n",
              "      <td>0</td>\n",
              "      <td>PC 17758</td>\n",
              "      <td>108.9000</td>\n",
              "      <td>C105</td>\n",
              "      <td>C</td>\n",
              "    </tr>\n",
              "    <tr>\n",
              "      <th>415</th>\n",
              "      <td>1307</td>\n",
              "      <td>3</td>\n",
              "      <td>Saether, Mr. Simon Sivertsen</td>\n",
              "      <td>male</td>\n",
              "      <td>38.5</td>\n",
              "      <td>0</td>\n",
              "      <td>0</td>\n",
              "      <td>SOTON/O.Q. 3101262</td>\n",
              "      <td>7.2500</td>\n",
              "      <td>NaN</td>\n",
              "      <td>S</td>\n",
              "    </tr>\n",
              "    <tr>\n",
              "      <th>416</th>\n",
              "      <td>1308</td>\n",
              "      <td>3</td>\n",
              "      <td>Ware, Mr. Frederick</td>\n",
              "      <td>male</td>\n",
              "      <td>NaN</td>\n",
              "      <td>0</td>\n",
              "      <td>0</td>\n",
              "      <td>359309</td>\n",
              "      <td>8.0500</td>\n",
              "      <td>NaN</td>\n",
              "      <td>S</td>\n",
              "    </tr>\n",
              "    <tr>\n",
              "      <th>417</th>\n",
              "      <td>1309</td>\n",
              "      <td>3</td>\n",
              "      <td>Peter, Master. Michael J</td>\n",
              "      <td>male</td>\n",
              "      <td>NaN</td>\n",
              "      <td>1</td>\n",
              "      <td>1</td>\n",
              "      <td>2668</td>\n",
              "      <td>22.3583</td>\n",
              "      <td>NaN</td>\n",
              "      <td>C</td>\n",
              "    </tr>\n",
              "  </tbody>\n",
              "</table>\n",
              "</div>"
            ],
            "text/plain": [
              "     PassengerId  Pclass                          Name  ...      Fare  Cabin  Embarked\n",
              "413         1305       3            Spector, Mr. Woolf  ...    8.0500    NaN         S\n",
              "414         1306       1  Oliva y Ocana, Dona. Fermina  ...  108.9000   C105         C\n",
              "415         1307       3  Saether, Mr. Simon Sivertsen  ...    7.2500    NaN         S\n",
              "416         1308       3           Ware, Mr. Frederick  ...    8.0500    NaN         S\n",
              "417         1309       3      Peter, Master. Michael J  ...   22.3583    NaN         C\n",
              "\n",
              "[5 rows x 11 columns]"
            ]
          },
          "metadata": {
            "tags": []
          },
          "execution_count": 66
        }
      ]
    },
    {
      "cell_type": "code",
      "metadata": {
        "id": "n8-dW4sQWzbc",
        "colab": {
          "base_uri": "https://localhost:8080/"
        },
        "outputId": "f1e8b60e-e7bc-4a8a-ca77-aeae38b4907a"
      },
      "source": [
        "# Checking whether each train column has an appropriate datatype\n",
        "#\n",
        "df_train.info()"
      ],
      "execution_count": 67,
      "outputs": [
        {
          "output_type": "stream",
          "text": [
            "<class 'pandas.core.frame.DataFrame'>\n",
            "RangeIndex: 891 entries, 0 to 890\n",
            "Data columns (total 12 columns):\n",
            " #   Column       Non-Null Count  Dtype  \n",
            "---  ------       --------------  -----  \n",
            " 0   PassengerId  891 non-null    int64  \n",
            " 1   Survived     891 non-null    int64  \n",
            " 2   Pclass       891 non-null    int64  \n",
            " 3   Name         891 non-null    object \n",
            " 4   Sex          891 non-null    object \n",
            " 5   Age          714 non-null    float64\n",
            " 6   SibSp        891 non-null    int64  \n",
            " 7   Parch        891 non-null    int64  \n",
            " 8   Ticket       891 non-null    object \n",
            " 9   Fare         891 non-null    float64\n",
            " 10  Cabin        204 non-null    object \n",
            " 11  Embarked     889 non-null    object \n",
            "dtypes: float64(2), int64(5), object(5)\n",
            "memory usage: 83.7+ KB\n"
          ],
          "name": "stdout"
        }
      ]
    },
    {
      "cell_type": "code",
      "metadata": {
        "colab": {
          "base_uri": "https://localhost:8080/"
        },
        "id": "26-swJw1nPkA",
        "outputId": "73f10517-9360-41f9-b5b0-aec265b3b1f8"
      },
      "source": [
        "# Checking whether each test column has an appropriate datatype\n",
        "#\n",
        "df_test.info()"
      ],
      "execution_count": 68,
      "outputs": [
        {
          "output_type": "stream",
          "text": [
            "<class 'pandas.core.frame.DataFrame'>\n",
            "RangeIndex: 418 entries, 0 to 417\n",
            "Data columns (total 11 columns):\n",
            " #   Column       Non-Null Count  Dtype  \n",
            "---  ------       --------------  -----  \n",
            " 0   PassengerId  418 non-null    int64  \n",
            " 1   Pclass       418 non-null    int64  \n",
            " 2   Name         418 non-null    object \n",
            " 3   Sex          418 non-null    object \n",
            " 4   Age          332 non-null    float64\n",
            " 5   SibSp        418 non-null    int64  \n",
            " 6   Parch        418 non-null    int64  \n",
            " 7   Ticket       418 non-null    object \n",
            " 8   Fare         417 non-null    float64\n",
            " 9   Cabin        91 non-null     object \n",
            " 10  Embarked     418 non-null    object \n",
            "dtypes: float64(2), int64(4), object(5)\n",
            "memory usage: 36.0+ KB\n"
          ],
          "name": "stdout"
        }
      ]
    },
    {
      "cell_type": "markdown",
      "metadata": {
        "id": "ckfufNrcUHeH"
      },
      "source": [
        "## 4. External Data Source Validation"
      ]
    },
    {
      "cell_type": "markdown",
      "metadata": {
        "id": "66yNi9yzYxzZ"
      },
      "source": [
        "Titanic's passengers numbered 1,317 people: 324 in first class(ratio : 0.24601), 284 in second class(ratio: 0.21564), and 709 in third class(ratio : 0.53834). Of these, 805 were male and 434 were female; 112 children were aboard, the largest number of which were in third class.805 (ratio : 0.61123)were male and 434 were female(ratio : 0.32953). [Link](https://)\n",
        "\n",
        "The overall survival rate for men was 20% while for women, it was 74%. [LINK](https://)"
      ]
    },
    {
      "cell_type": "code",
      "metadata": {
        "colab": {
          "base_uri": "https://localhost:8080/"
        },
        "id": "rNZyyKkoZ8um",
        "outputId": "94c908a2-d973-4fcc-f12c-16dff5247234"
      },
      "source": [
        "#Compare this information with our data\n",
        "df_train['Pclass'].value_counts(normalize = True)  #The datasets reflects the actual passenger information "
      ],
      "execution_count": 116,
      "outputs": [
        {
          "output_type": "execute_result",
          "data": {
            "text/plain": [
              "3    0.552306\n",
              "1    0.240720\n",
              "2    0.206974\n",
              "Name: Pclass, dtype: float64"
            ]
          },
          "metadata": {
            "tags": []
          },
          "execution_count": 116
        }
      ]
    },
    {
      "cell_type": "markdown",
      "metadata": {
        "id": "4S_IhakHcqpv"
      },
      "source": [
        ""
      ]
    },
    {
      "cell_type": "code",
      "metadata": {
        "colab": {
          "base_uri": "https://localhost:8080/"
        },
        "id": "6oeB02sFcL02",
        "outputId": "2d660981-fe0c-4033-82f2-eedb29834dcb"
      },
      "source": [
        "#check the ditribution of gender to compare with actual taitanic report.\n",
        "\n",
        "\n",
        "df_train['Sex'].value_counts(normalize = True)  # The datasets reflects the actual passenger information"
      ],
      "execution_count": 118,
      "outputs": [
        {
          "output_type": "execute_result",
          "data": {
            "text/plain": [
              "male      0.649044\n",
              "female    0.350956\n",
              "Name: Sex, dtype: float64"
            ]
          },
          "metadata": {
            "tags": []
          },
          "execution_count": 118
        }
      ]
    },
    {
      "cell_type": "code",
      "metadata": {
        "colab": {
          "base_uri": "https://localhost:8080/"
        },
        "id": "suOcNcRteJw3",
        "outputId": "a2449174-7f6a-4775-d453-1c4f4b1fae6f"
      },
      "source": [
        "#Check survival ratio by gender\n",
        "df_train.groupby('Survived')['Sex'].value_counts(normalize = True) # The datasets reflects the actual passenger information"
      ],
      "execution_count": 119,
      "outputs": [
        {
          "output_type": "execute_result",
          "data": {
            "text/plain": [
              "Survived  Sex   \n",
              "0         male      0.852459\n",
              "          female    0.147541\n",
              "1         female    0.679412\n",
              "          male      0.320588\n",
              "Name: Sex, dtype: float64"
            ]
          },
          "metadata": {
            "tags": []
          },
          "execution_count": 119
        }
      ]
    },
    {
      "cell_type": "markdown",
      "metadata": {
        "id": "FlBMxEDBUc9B"
      },
      "source": [
        "## 5. Tidying the Dataset"
      ]
    },
    {
      "cell_type": "code",
      "metadata": {
        "id": "PvCYb6dgW4yh",
        "colab": {
          "base_uri": "https://localhost:8080/"
        },
        "outputId": "660f1fd9-5452-4205-b56a-87c8e0726aea"
      },
      "source": [
        "# Identifying the Missing Data in train dataset\n",
        "#\n",
        "print('Size of the data : ', len(df_train))\n",
        "df_train.isnull().sum()"
      ],
      "execution_count": 69,
      "outputs": [
        {
          "output_type": "stream",
          "text": [
            "Size of the data :  891\n"
          ],
          "name": "stdout"
        },
        {
          "output_type": "execute_result",
          "data": {
            "text/plain": [
              "PassengerId      0\n",
              "Survived         0\n",
              "Pclass           0\n",
              "Name             0\n",
              "Sex              0\n",
              "Age            177\n",
              "SibSp            0\n",
              "Parch            0\n",
              "Ticket           0\n",
              "Fare             0\n",
              "Cabin          687\n",
              "Embarked         2\n",
              "dtype: int64"
            ]
          },
          "metadata": {
            "tags": []
          },
          "execution_count": 69
        }
      ]
    },
    {
      "cell_type": "code",
      "metadata": {
        "colab": {
          "base_uri": "https://localhost:8080/"
        },
        "id": "3XfPYZ-LozSs",
        "outputId": "9d190a2d-76a4-43f5-c64f-9d9d3a3f4840"
      },
      "source": [
        "# Identifying the Missing Data in test dataset\n",
        "#\n",
        "print('Size of the data : ', len(df_test))\n",
        "df_test.isnull().sum()\n"
      ],
      "execution_count": 70,
      "outputs": [
        {
          "output_type": "stream",
          "text": [
            "Size of the data :  418\n"
          ],
          "name": "stdout"
        },
        {
          "output_type": "execute_result",
          "data": {
            "text/plain": [
              "PassengerId      0\n",
              "Pclass           0\n",
              "Name             0\n",
              "Sex              0\n",
              "Age             86\n",
              "SibSp            0\n",
              "Parch            0\n",
              "Ticket           0\n",
              "Fare             1\n",
              "Cabin          327\n",
              "Embarked         0\n",
              "dtype: int64"
            ]
          },
          "metadata": {
            "tags": []
          },
          "execution_count": 70
        }
      ]
    },
    {
      "cell_type": "markdown",
      "metadata": {
        "id": "kWks05bDpTzz"
      },
      "source": [
        "> In both the training dataset and the test dataset, the Cabin column is missing more then half the records. For this reason, we will drop the column entirely.\n",
        "\n",
        "> For the age column, we shall impute the missing data. The imputation shall be the mean age depending on the Pclass of the passager.\n",
        "\n",
        "\n",
        "\n"
      ]
    },
    {
      "cell_type": "code",
      "metadata": {
        "id": "wVZqHAgnrSOY"
      },
      "source": [
        "#Droping the Cabin column from both datasets\n",
        "df_train.drop(['Cabin', 'Ticket'],axis = 1, inplace = True)\n",
        "df_test.drop(['Cabin','Ticket'],axis = 1, inplace = True)\n",
        "\n",
        "# Passger is not relevant to this study and thus the column was dropped"
      ],
      "execution_count": 71,
      "outputs": []
    },
    {
      "cell_type": "code",
      "metadata": {
        "colab": {
          "base_uri": "https://localhost:8080/"
        },
        "id": "VxICRv10uiVO",
        "outputId": "826f947b-25ac-4830-8671-a4cfece566ae"
      },
      "source": [
        "df_test.Pclass.unique()"
      ],
      "execution_count": 72,
      "outputs": [
        {
          "output_type": "execute_result",
          "data": {
            "text/plain": [
              "array([3, 2, 1])"
            ]
          },
          "metadata": {
            "tags": []
          },
          "execution_count": 72
        }
      ]
    },
    {
      "cell_type": "code",
      "metadata": {
        "colab": {
          "base_uri": "https://localhost:8080/"
        },
        "id": "ar__TN8Jvwzg",
        "outputId": "b38817c6-5c52-4eba-92f2-f26962212e15"
      },
      "source": [
        "#Imputing the age column in train dataset\n",
        "\n",
        "#group by sex and class\n",
        "grp_class = df_train.groupby(['Sex', 'Pclass'])\n",
        "\n",
        "#use the function that imputes by meadian\n",
        "def impute_median(series):\n",
        "  return series.fillna(series.median())\n",
        "\n",
        "#impute with the median\n",
        "df_train.Age = grp_class['Age'].transform(impute_median)\n",
        "\n",
        "#Confirm if the missing values in age column have all been imputed.\n",
        "df_train.isnull().sum()"
      ],
      "execution_count": 73,
      "outputs": [
        {
          "output_type": "execute_result",
          "data": {
            "text/plain": [
              "PassengerId    0\n",
              "Survived       0\n",
              "Pclass         0\n",
              "Name           0\n",
              "Sex            0\n",
              "Age            0\n",
              "SibSp          0\n",
              "Parch          0\n",
              "Fare           0\n",
              "Embarked       2\n",
              "dtype: int64"
            ]
          },
          "metadata": {
            "tags": []
          },
          "execution_count": 73
        }
      ]
    },
    {
      "cell_type": "code",
      "metadata": {
        "colab": {
          "base_uri": "https://localhost:8080/"
        },
        "id": "n-uH_i38xG1Z",
        "outputId": "2075b277-df8b-4c5a-b3dd-6adc616b344c"
      },
      "source": [
        "#Imputing the age column in train dataset\n",
        "\n",
        "#group by sex and class\n",
        "grp_class = df_test.groupby(['Sex', 'Pclass'])\n",
        "\n",
        "#use the function that imputes by meadian\n",
        "def impute_median(series):\n",
        "  return series.fillna(series.median())\n",
        "\n",
        "#impute with the median\n",
        "df_test.Age = grp_class['Age'].transform(impute_median)\n",
        "\n",
        "#Confirm if the missing values in age column have all been imputed.\n",
        "df_test.isnull().sum()"
      ],
      "execution_count": 74,
      "outputs": [
        {
          "output_type": "execute_result",
          "data": {
            "text/plain": [
              "PassengerId    0\n",
              "Pclass         0\n",
              "Name           0\n",
              "Sex            0\n",
              "Age            0\n",
              "SibSp          0\n",
              "Parch          0\n",
              "Fare           1\n",
              "Embarked       0\n",
              "dtype: int64"
            ]
          },
          "metadata": {
            "tags": []
          },
          "execution_count": 74
        }
      ]
    },
    {
      "cell_type": "code",
      "metadata": {
        "colab": {
          "base_uri": "https://localhost:8080/"
        },
        "id": "G9iQAX_Yw1Go",
        "outputId": "f5ff8c10-73f2-4d00-df39-c331dcf82837"
      },
      "source": [
        "#We shall now drop the remaining missing values from each dataset\n",
        "df_train.dropna(inplace=True)\n",
        "df_test.dropna(inplace=True)\n",
        "\n",
        "#confirm there are nome missing values\n",
        "print('Test dataset \\n\\n', df_test.isnull().sum())\n",
        "print('\\nTrain dataset \\n\\n', df_train.isnull().sum())"
      ],
      "execution_count": 75,
      "outputs": [
        {
          "output_type": "stream",
          "text": [
            "Test dataset \n",
            "\n",
            " PassengerId    0\n",
            "Pclass         0\n",
            "Name           0\n",
            "Sex            0\n",
            "Age            0\n",
            "SibSp          0\n",
            "Parch          0\n",
            "Fare           0\n",
            "Embarked       0\n",
            "dtype: int64\n",
            "\n",
            "Train dataset \n",
            "\n",
            " PassengerId    0\n",
            "Survived       0\n",
            "Pclass         0\n",
            "Name           0\n",
            "Sex            0\n",
            "Age            0\n",
            "SibSp          0\n",
            "Parch          0\n",
            "Fare           0\n",
            "Embarked       0\n",
            "dtype: int64\n"
          ],
          "name": "stdout"
        }
      ]
    },
    {
      "cell_type": "code",
      "metadata": {
        "colab": {
          "base_uri": "https://localhost:8080/"
        },
        "id": "E9PDxuWf2g2K",
        "outputId": "f5e8c125-98fc-4181-c459-d348942544a5"
      },
      "source": [
        "#Checking for Outliers\n",
        "cols = [ 'Survived', 'Pclass', 'Age', 'SibSp', 'Parch', 'Fare']\n",
        "Q1 = df_train[cols].quantile(0.05)\n",
        "Q3 = df_train[cols].quantile(0.95)\n",
        "IQR = Q3 -Q1\n",
        "outliers = df_train[cols][((df_train[cols] < (Q1 - 1.5 * IQR)) |(df_train[cols] > (Q3 + 1.5 * IQR))).any(axis=1)]\n",
        "outliers.shape"
      ],
      "execution_count": 76,
      "outputs": [
        {
          "output_type": "execute_result",
          "data": {
            "text/plain": [
              "(11, 6)"
            ]
          },
          "metadata": {
            "tags": []
          },
          "execution_count": 76
        }
      ]
    },
    {
      "cell_type": "code",
      "metadata": {
        "colab": {
          "base_uri": "https://localhost:8080/"
        },
        "id": "-Z36hunw3K5h",
        "outputId": "f319ad29-b1a7-4e52-e858-cccbfc17be4e"
      },
      "source": [
        "#Checking for Outliers\n",
        "col = ['Pclass', 'Age', 'SibSp', 'Parch', 'Fare']\n",
        "Q1 = df_test[col].quantile(0.25)\n",
        "Q3 = df_test[col].quantile(0.75)\n",
        "IQR = Q3 -Q1\n",
        "outliers = df_test[col][((df_test[col] < (Q1 - 1.5 * IQR)) |(df_test[col] > (Q3 + 1.5 * IQR))).any(axis=1)]\n",
        "\n",
        "#previewing the outliers\n",
        "# outliers\n",
        "df_train.columns"
      ],
      "execution_count": 77,
      "outputs": [
        {
          "output_type": "execute_result",
          "data": {
            "text/plain": [
              "Index(['PassengerId', 'Survived', 'Pclass', 'Name', 'Sex', 'Age', 'SibSp',\n",
              "       'Parch', 'Fare', 'Embarked'],\n",
              "      dtype='object')"
            ]
          },
          "metadata": {
            "tags": []
          },
          "execution_count": 77
        }
      ]
    },
    {
      "cell_type": "code",
      "metadata": {
        "id": "5o_bQcT5W3Wz",
        "colab": {
          "base_uri": "https://localhost:8080/",
          "height": 0
        },
        "outputId": "02dd9e8a-f707-4038-fb2a-565a8f63452a"
      },
      "source": [
        "# Boxplot of outliers\n",
        "cols = ['Survived', 'Pclass', 'Age', 'SibSp',\n",
        "       'Parch', 'Fare']\n",
        "fig, ax = plt.subplots(len(cols), figsize=(15,10))\n",
        "\n",
        "for i, col_val in enumerate(cols):\n",
        "    sns.boxplot(df_train[col_val], ax=ax[i])\n",
        "    ax[i].set_title('Box plot - {}'.format(col_val), fontsize=10)\n",
        "    ax[i].set_xlabel(col_val, fontsize=8)\n",
        "plt.show()"
      ],
      "execution_count": 78,
      "outputs": [
        {
          "output_type": "display_data",
          "data": {
            "image/png": "[encoded data removed]",
            "text/plain": [
              "<Figure size 1080x720 with 6 Axes>"
            ]
          },
          "metadata": {
            "tags": []
          }
        }
      ]
    },
    {
      "cell_type": "code",
      "metadata": {
        "id": "D-4I__6Os4C5"
      },
      "source": [
        "# More data cleaning procedures\n",
        "#"
      ],
      "execution_count": 79,
      "outputs": []
    },
    {
      "cell_type": "markdown",
      "metadata": {
        "id": "6_5QIojUJLNb"
      },
      "source": [
        "#6. Feature Engineering"
      ]
    },
    {
      "cell_type": "markdown",
      "metadata": {
        "id": "RhDaZmxTT4J6"
      },
      "source": [
        "From the Name column, we are going to extract the passagers social status\n",
        "This will be done by spliting the names column values to extract the title e.g ms,mrs,mr,doctor.\n",
        "We will then group the passager into groups as they were during the time period.\n",
        "The groupsshall be the social classes: Commoner, Noble, Clergy,Doub..."
      ]
    },
    {
      "cell_type": "code",
      "metadata": {
        "id": "XdAg4ZtpMAfz",
        "colab": {
          "base_uri": "https://localhost:8080/",
          "height": 0
        },
        "outputId": "39c54f94-08fb-4b41-afc3-2fde13eef350"
      },
      "source": [
        "# Step 1: Spliting the Names column\n",
        "df_train['first name'] = df_train['Name'].str.split(',|\\\\.',expand = True)[2] #expand set to True to return a df instead of series\n",
        "df_train['first name'] = df_train['first name'].str.strip() #strip leading and trailing white spaces\n",
        "df_train['last name'] = df_train['Name'].str.split(',|\\\\.',expand = True)[0] #expand set to True to return a df instead of series\n",
        "df_train['last name'] = df_train['last name'].str.strip()\n",
        "df_train['title'] = df_train['Name'].str.split(',|\\\\.',expand = True)[1] #expand set to True to return a df instead of series\n",
        "# Step 2: Etract the title\n",
        "df_train['title'] = df_train['title'].str.strip()\n",
        "# Step 3: Drop the othe created columns that were createed except title\n",
        "df_train.drop(['first name','last name','Name'], inplace= True, axis = 1)\n",
        "\n",
        "#Preview the dataset\n",
        "df_train.head()"
      ],
      "execution_count": 80,
      "outputs": [
        {
          "output_type": "execute_result",
          "data": {
            "text/html": [
              "<div>\n",
              "<style scoped>\n",
              "    .dataframe tbody tr th:only-of-type {\n",
              "        vertical-align: middle;\n",
              "    }\n",
              "\n",
              "    .dataframe tbody tr th {\n",
              "        vertical-align: top;\n",
              "    }\n",
              "\n",
              "    .dataframe thead th {\n",
              "        text-align: right;\n",
              "    }\n",
              "</style>\n",
              "<table border=\"1\" class=\"dataframe\">\n",
              "  <thead>\n",
              "    <tr style=\"text-align: right;\">\n",
              "      <th></th>\n",
              "      <th>PassengerId</th>\n",
              "      <th>Survived</th>\n",
              "      <th>Pclass</th>\n",
              "      <th>Sex</th>\n",
              "      <th>Age</th>\n",
              "      <th>SibSp</th>\n",
              "      <th>Parch</th>\n",
              "      <th>Fare</th>\n",
              "      <th>Embarked</th>\n",
              "      <th>title</th>\n",
              "    </tr>\n",
              "  </thead>\n",
              "  <tbody>\n",
              "    <tr>\n",
              "      <th>0</th>\n",
              "      <td>1</td>\n",
              "      <td>0</td>\n",
              "      <td>3</td>\n",
              "      <td>male</td>\n",
              "      <td>22.0</td>\n",
              "      <td>1</td>\n",
              "      <td>0</td>\n",
              "      <td>7.2500</td>\n",
              "      <td>S</td>\n",
              "      <td>Mr</td>\n",
              "    </tr>\n",
              "    <tr>\n",
              "      <th>1</th>\n",
              "      <td>2</td>\n",
              "      <td>1</td>\n",
              "      <td>1</td>\n",
              "      <td>female</td>\n",
              "      <td>38.0</td>\n",
              "      <td>1</td>\n",
              "      <td>0</td>\n",
              "      <td>71.2833</td>\n",
              "      <td>C</td>\n",
              "      <td>Mrs</td>\n",
              "    </tr>\n",
              "    <tr>\n",
              "      <th>2</th>\n",
              "      <td>3</td>\n",
              "      <td>1</td>\n",
              "      <td>3</td>\n",
              "      <td>female</td>\n",
              "      <td>26.0</td>\n",
              "      <td>0</td>\n",
              "      <td>0</td>\n",
              "      <td>7.9250</td>\n",
              "      <td>S</td>\n",
              "      <td>Miss</td>\n",
              "    </tr>\n",
              "    <tr>\n",
              "      <th>3</th>\n",
              "      <td>4</td>\n",
              "      <td>1</td>\n",
              "      <td>1</td>\n",
              "      <td>female</td>\n",
              "      <td>35.0</td>\n",
              "      <td>1</td>\n",
              "      <td>0</td>\n",
              "      <td>53.1000</td>\n",
              "      <td>S</td>\n",
              "      <td>Mrs</td>\n",
              "    </tr>\n",
              "    <tr>\n",
              "      <th>4</th>\n",
              "      <td>5</td>\n",
              "      <td>0</td>\n",
              "      <td>3</td>\n",
              "      <td>male</td>\n",
              "      <td>35.0</td>\n",
              "      <td>0</td>\n",
              "      <td>0</td>\n",
              "      <td>8.0500</td>\n",
              "      <td>S</td>\n",
              "      <td>Mr</td>\n",
              "    </tr>\n",
              "  </tbody>\n",
              "</table>\n",
              "</div>"
            ],
            "text/plain": [
              "   PassengerId  Survived  Pclass     Sex  ...  Parch     Fare  Embarked  title\n",
              "0            1         0       3    male  ...      0   7.2500         S     Mr\n",
              "1            2         1       1  female  ...      0  71.2833         C    Mrs\n",
              "2            3         1       3  female  ...      0   7.9250         S   Miss\n",
              "3            4         1       1  female  ...      0  53.1000         S    Mrs\n",
              "4            5         0       3    male  ...      0   8.0500         S     Mr\n",
              "\n",
              "[5 rows x 10 columns]"
            ]
          },
          "metadata": {
            "tags": []
          },
          "execution_count": 80
        }
      ]
    },
    {
      "cell_type": "code",
      "metadata": {
        "colab": {
          "base_uri": "https://localhost:8080/"
        },
        "id": "nxliQJY-_RWY",
        "outputId": "11c79562-b8b1-4583-bd07-d6cdc70e762d"
      },
      "source": [
        "# Step 1: Spliting the Names column\n",
        "df_test['first name'] = df_test['Name'].str.split(',|\\\\.',expand = True)[2] #expand set to True to return a df instead of series\n",
        "df_test['first name'] = df_test['first name'].str.strip() #strip leading and trailing white spaces\n",
        "df_test['last name'] = df_test['Name'].str.split(',|\\\\.',expand = True)[0] #expand set to True to return a df instead of series\n",
        "df_test['last name'] = df_test['last name'].str.strip()\n",
        "df_test['title'] = df_test['Name'].str.split(',|\\\\.',expand = True)[1] #expand set to True to return a df instead of series\n",
        "# Step 2: Etract the title\n",
        "df_test['title'] = df_test['title'].str.strip()\n",
        "# Step 3: Drop the othe created columns that were createed except title\n",
        "df_test.drop(['first name','last name','Name'], inplace= True, axis = 1)\n",
        "\n",
        "#Check the unique values in the new title column\n",
        "df_test.title.unique()"
      ],
      "execution_count": 81,
      "outputs": [
        {
          "output_type": "execute_result",
          "data": {
            "text/plain": [
              "array(['Mr', 'Mrs', 'Miss', 'Master', 'Ms', 'Col', 'Rev', 'Dr', 'Dona'],\n",
              "      dtype=object)"
            ]
          },
          "metadata": {
            "tags": []
          },
          "execution_count": 81
        }
      ]
    },
    {
      "cell_type": "code",
      "metadata": {
        "colab": {
          "base_uri": "https://localhost:8080/"
        },
        "id": "QxCibvFc7eJD",
        "outputId": "e4a4760e-3c32-4da2-a25c-d71135ff1681"
      },
      "source": [
        "#we will then map the title to represent to popular titles during thee time period\n",
        "mapping = {'Mlle': 'Commoner', \n",
        "           'Major': 'Military',\n",
        "           'Col': 'Military',\n",
        "           'Sir': 'Noble',\n",
        "           'Don': 'Noble',\n",
        "           'Mme': 'Commoner', \n",
        "           'Jonkheer': 'Noble', \n",
        "           'Lady': 'Noble',\n",
        "           'Capt': 'Military',\n",
        "           'the Countess': 'Noble',\n",
        "           'Ms': 'Commoner', \n",
        "           'Dona': 'Mrs',\n",
        "           'Mrs' : 'Commoner',\n",
        "           'Mr' : 'Commoner',\n",
        "           'Miss' : 'Commoner',\n",
        "           'Rev' : 'Clergy',\n",
        "           'Dr' : 'Doctor',\n",
        "           'Master' : 'Commoner'}\n",
        "\n",
        "df_train.replace({'title': mapping}, inplace=True)\n",
        "df_test.replace({'title': mapping}, inplace=True)\n",
        "#check the unique values in the dataset\n",
        "df_test.title.unique()"
      ],
      "execution_count": 82,
      "outputs": [
        {
          "output_type": "execute_result",
          "data": {
            "text/plain": [
              "array(['Commoner', 'Military', 'Clergy', 'Doctor', 'Mrs'], dtype=object)"
            ]
          },
          "metadata": {
            "tags": []
          },
          "execution_count": 82
        }
      ]
    },
    {
      "cell_type": "code",
      "metadata": {
        "id": "tCU6rigFIeKm"
      },
      "source": [
        "#Sibsp represent the passager siblings and spause onboard while Parch represent passger Parent or Children onboard.\n",
        "#All of these are family members. we will combine these two in one column named family to represnt all passager family members on board.\n",
        "#we shall do this for both datasets\n",
        "df_train['Family'] = df_train['SibSp'] + df_train['Parch']\n",
        "df_test['Family'] = df_test['SibSp'] + df_test['Parch']\n",
        "#Since the information in the parch and sibsp column has been captured, we will drop these two columns\n",
        "df_train.drop(['SibSp','Parch'], axis = 1, inplace=True)\n",
        "df_test.drop(['SibSp','Parch'], axis = 1, inplace=True)"
      ],
      "execution_count": 83,
      "outputs": []
    },
    {
      "cell_type": "markdown",
      "metadata": {
        "id": "rF2ABPsHUtbZ"
      },
      "source": [
        "# 7. Exploratory Analysis"
      ]
    },
    {
      "cell_type": "markdown",
      "metadata": {
        "id": "DG1byJ00Eq8j"
      },
      "source": [
        "#### Measures of distribution and central tendancies."
      ]
    },
    {
      "cell_type": "code",
      "metadata": {
        "id": "PWlukLKUvFQN",
        "colab": {
          "base_uri": "https://localhost:8080/"
        },
        "outputId": "c25910d5-a705-4ffe-d791-ad72b2215395"
      },
      "source": [
        "# Checking for Anomalies and unique values in the data\n",
        "#\n",
        "colx = df_train.columns\n",
        "for i in colx:\n",
        "  print(i)\n",
        "  print(df_train[i].unique())\n",
        "  print('*****'*20)"
      ],
      "execution_count": 84,
      "outputs": [
        {
          "output_type": "stream",
          "text": [
            "PassengerId\n",
            "[  1   2   3   4   5   6   7   8   9  10  11  12  13  14  15  16  17  18\n",
            "  19  20  21  22  23  24  25  26  27  28  29  30  31  32  33  34  35  36\n",
            "  37  38  39  40  41  42  43  44  45  46  47  48  49  50  51  52  53  54\n",
            "  55  56  57  58  59  60  61  63  64  65  66  67  68  69  70  71  72  73\n",
            "  74  75  76  77  78  79  80  81  82  83  84  85  86  87  88  89  90  91\n",
            "  92  93  94  95  96  97  98  99 100 101 102 103 104 105 106 107 108 109\n",
            " 110 111 112 113 114 115 116 117 118 119 120 121 122 123 124 125 126 127\n",
            " 128 129 130 131 132 133 134 135 136 137 138 139 140 141 142 143 144 145\n",
            " 146 147 148 149 150 151 152 153 154 155 156 157 158 159 160 161 162 163\n",
            " 164 165 166 167 168 169 170 171 172 173 174 175 176 177 178 179 180 181\n",
            " 182 183 184 185 186 187 188 189 190 191 192 193 194 195 196 197 198 199\n",
            " 200 201 202 203 204 205 206 207 208 209 210 211 212 213 214 215 216 217\n",
            " 218 219 220 221 222 223 224 225 226 227 228 229 230 231 232 233 234 235\n",
            " 236 237 238 239 240 241 242 243 244 245 246 247 248 249 250 251 252 253\n",
            " 254 255 256 257 258 259 260 261 262 263 264 265 266 267 268 269 270 271\n",
            " 272 273 274 275 276 277 278 279 280 281 282 283 284 285 286 287 288 289\n",
            " 290 291 292 293 294 295 296 297 298 299 300 301 302 303 304 305 306 307\n",
            " 308 309 310 311 312 313 314 315 316 317 318 319 320 321 322 323 324 325\n",
            " 326 327 328 329 330 331 332 333 334 335 336 337 338 339 340 341 342 343\n",
            " 344 345 346 347 348 349 350 351 352 353 354 355 356 357 358 359 360 361\n",
            " 362 363 364 365 366 367 368 369 370 371 372 373 374 375 376 377 378 379\n",
            " 380 381 382 383 384 385 386 387 388 389 390 391 392 393 394 395 396 397\n",
            " 398 399 400 401 402 403 404 405 406 407 408 409 410 411 412 413 414 415\n",
            " 416 417 418 419 420 421 422 423 424 425 426 427 428 429 430 431 432 433\n",
            " 434 435 436 437 438 439 440 441 442 443 444 445 446 447 448 449 450 451\n",
            " 452 453 454 455 456 457 458 459 460 461 462 463 464 465 466 467 468 469\n",
            " 470 471 472 473 474 475 476 477 478 479 480 481 482 483 484 485 486 487\n",
            " 488 489 490 491 492 493 494 495 496 497 498 499 500 501 502 503 504 505\n",
            " 506 507 508 509 510 511 512 513 514 515 516 517 518 519 520 521 522 523\n",
            " 524 525 526 527 528 529 530 531 532 533 534 535 536 537 538 539 540 541\n",
            " 542 543 544 545 546 547 548 549 550 551 552 553 554 555 556 557 558 559\n",
            " 560 561 562 563 564 565 566 567 568 569 570 571 572 573 574 575 576 577\n",
            " 578 579 580 581 582 583 584 585 586 587 588 589 590 591 592 593 594 595\n",
            " 596 597 598 599 600 601 602 603 604 605 606 607 608 609 610 611 612 613\n",
            " 614 615 616 617 618 619 620 621 622 623 624 625 626 627 628 629 630 631\n",
            " 632 633 634 635 636 637 638 639 640 641 642 643 644 645 646 647 648 649\n",
            " 650 651 652 653 654 655 656 657 658 659 660 661 662 663 664 665 666 667\n",
            " 668 669 670 671 672 673 674 675 676 677 678 679 680 681 682 683 684 685\n",
            " 686 687 688 689 690 691 692 693 694 695 696 697 698 699 700 701 702 703\n",
            " 704 705 706 707 708 709 710 711 712 713 714 715 716 717 718 719 720 721\n",
            " 722 723 724 725 726 727 728 729 730 731 732 733 734 735 736 737 738 739\n",
            " 740 741 742 743 744 745 746 747 748 749 750 751 752 753 754 755 756 757\n",
            " 758 759 760 761 762 763 764 765 766 767 768 769 770 771 772 773 774 775\n",
            " 776 777 778 779 780 781 782 783 784 785 786 787 788 789 790 791 792 793\n",
            " 794 795 796 797 798 799 800 801 802 803 804 805 806 807 808 809 810 811\n",
            " 812 813 814 815 816 817 818 819 820 821 822 823 824 825 826 827 828 829\n",
            " 831 832 833 834 835 836 837 838 839 840 841 842 843 844 845 846 847 848\n",
            " 849 850 851 852 853 854 855 856 857 858 859 860 861 862 863 864 865 866\n",
            " 867 868 869 870 871 872 873 874 875 876 877 878 879 880 881 882 883 884\n",
            " 885 886 887 888 889 890 891]\n",
            "****************************************************************************************************\n",
            "Survived\n",
            "[0 1]\n",
            "****************************************************************************************************\n",
            "Pclass\n",
            "[3 1 2]\n",
            "****************************************************************************************************\n",
            "Sex\n",
            "['male' 'female']\n",
            "****************************************************************************************************\n",
            "Age\n",
            "[22.   38.   26.   35.   25.   54.    2.   27.   14.    4.   58.   20.\n",
            " 39.   55.   30.   31.   21.5  34.   15.   28.    8.   19.   40.   66.\n",
            " 42.   21.   18.    3.    7.   49.   29.   65.   28.5   5.   11.   45.\n",
            " 17.   32.   16.    0.83 33.   23.   24.   46.   59.   71.   37.   47.\n",
            " 14.5  70.5  32.5  12.    9.   36.5  51.   55.5  40.5  44.    1.   61.\n",
            " 56.   50.   36.   45.5  20.5  62.   41.   52.   63.   23.5   0.92 43.\n",
            " 60.   10.   64.   13.   48.    0.75 53.   57.   80.   70.   24.5   6.\n",
            "  0.67 30.5   0.42 34.5  74.  ]\n",
            "****************************************************************************************************\n",
            "Fare\n",
            "[  7.25    71.2833   7.925   53.1      8.05     8.4583  51.8625  21.075\n",
            "  11.1333  30.0708  16.7     26.55    31.275    7.8542  16.      29.125\n",
            "  13.      18.       7.225   26.       8.0292  35.5     31.3875 263.\n",
            "   7.8792   7.8958  27.7208 146.5208   7.75    10.5     82.1708  52.\n",
            "   7.2292  11.2417   9.475   21.      41.5792  15.5     21.6792  17.8\n",
            "  39.6875   7.8     76.7292  61.9792  27.75    46.9     83.475   27.9\n",
            "  15.2458   8.1583   8.6625  73.5     14.4542  56.4958   7.65    29.\n",
            "  12.475    9.       9.5      7.7875  47.1     15.85    34.375   61.175\n",
            "  20.575   34.6542  63.3583  23.      77.2875   8.6542   7.775   24.15\n",
            "   9.825   14.4583 247.5208   7.1417  22.3583   6.975    7.05    14.5\n",
            "  15.0458  26.2833   9.2167  79.2      6.75    11.5     36.75     7.7958\n",
            "  12.525   66.6      7.3125  61.3792   7.7333  69.55    16.1     15.75\n",
            "  20.525   55.      25.925   33.5     30.6958  25.4667  28.7125   0.\n",
            "  15.05    39.      22.025   50.       8.4042   6.4958  10.4625  18.7875\n",
            "  31.     113.275   27.      76.2917  90.       9.35    13.5      7.55\n",
            "  26.25    12.275    7.125   52.5542  20.2125  86.5    512.3292  79.65\n",
            " 153.4625 135.6333  19.5     29.7     77.9583  20.25    78.85    91.0792\n",
            "  12.875    8.85   151.55    30.5     23.25    12.35   110.8833 108.9\n",
            "  24.      56.9292  83.1583 262.375   14.     164.8667 134.5      6.2375\n",
            "  57.9792  28.5    133.65    15.9      9.225   35.      75.25    69.3\n",
            "  55.4417 211.5      4.0125 227.525   15.7417   7.7292  12.     120.\n",
            "  12.65    18.75     6.8583  32.5      7.875   14.4     55.9      8.1125\n",
            "  81.8583  19.2583  19.9667  89.1042  38.5      7.725   13.7917   9.8375\n",
            "   7.0458   7.5208  12.2875   9.5875  49.5042  78.2667  15.1      7.6292\n",
            "  22.525   26.2875  59.4      7.4958  34.0208  93.5    221.7792 106.425\n",
            "  49.5     71.      13.8625   7.8292  39.6     17.4     51.4792  26.3875\n",
            "  30.      40.125    8.7125  15.      33.      42.4     15.55    65.\n",
            "  32.3208   7.0542   8.4333  25.5875   9.8417   8.1375  10.1708 211.3375\n",
            "  57.      13.4167   7.7417   9.4833   7.7375   8.3625  23.45    25.9292\n",
            "   8.6833   8.5167   7.8875  37.0042   6.45     6.95     8.3      6.4375\n",
            "  39.4     14.1083  13.8583  50.4958   5.       9.8458  10.5167]\n",
            "****************************************************************************************************\n",
            "Embarked\n",
            "['S' 'C' 'Q']\n",
            "****************************************************************************************************\n",
            "title\n",
            "['Commoner' 'Noble' 'Clergy' 'Doctor' 'Military']\n",
            "****************************************************************************************************\n",
            "Family\n",
            "[ 1  0  4  2  6  5  3  7 10]\n",
            "****************************************************************************************************\n"
          ],
          "name": "stdout"
        }
      ]
    },
    {
      "cell_type": "code",
      "metadata": {
        "colab": {
          "base_uri": "https://localhost:8080/",
          "height": 0
        },
        "id": "vXL-SZneLjaN",
        "outputId": "40055261-f376-42d5-e046-acaac47fd47c"
      },
      "source": [
        "#Train data descriptive statistics\n",
        "df_train.describe()"
      ],
      "execution_count": 85,
      "outputs": [
        {
          "output_type": "execute_result",
          "data": {
            "text/html": [
              "<div>\n",
              "<style scoped>\n",
              "    .dataframe tbody tr th:only-of-type {\n",
              "        vertical-align: middle;\n",
              "    }\n",
              "\n",
              "    .dataframe tbody tr th {\n",
              "        vertical-align: top;\n",
              "    }\n",
              "\n",
              "    .dataframe thead th {\n",
              "        text-align: right;\n",
              "    }\n",
              "</style>\n",
              "<table border=\"1\" class=\"dataframe\">\n",
              "  <thead>\n",
              "    <tr style=\"text-align: right;\">\n",
              "      <th></th>\n",
              "      <th>PassengerId</th>\n",
              "      <th>Survived</th>\n",
              "      <th>Pclass</th>\n",
              "      <th>Age</th>\n",
              "      <th>Fare</th>\n",
              "      <th>Family</th>\n",
              "    </tr>\n",
              "  </thead>\n",
              "  <tbody>\n",
              "    <tr>\n",
              "      <th>count</th>\n",
              "      <td>889.000000</td>\n",
              "      <td>889.000000</td>\n",
              "      <td>889.000000</td>\n",
              "      <td>889.000000</td>\n",
              "      <td>889.000000</td>\n",
              "      <td>889.000000</td>\n",
              "    </tr>\n",
              "    <tr>\n",
              "      <th>mean</th>\n",
              "      <td>446.000000</td>\n",
              "      <td>0.382452</td>\n",
              "      <td>2.311586</td>\n",
              "      <td>29.065433</td>\n",
              "      <td>32.096681</td>\n",
              "      <td>0.906637</td>\n",
              "    </tr>\n",
              "    <tr>\n",
              "      <th>std</th>\n",
              "      <td>256.998173</td>\n",
              "      <td>0.486260</td>\n",
              "      <td>0.834700</td>\n",
              "      <td>13.270162</td>\n",
              "      <td>49.697504</td>\n",
              "      <td>1.614703</td>\n",
              "    </tr>\n",
              "    <tr>\n",
              "      <th>min</th>\n",
              "      <td>1.000000</td>\n",
              "      <td>0.000000</td>\n",
              "      <td>1.000000</td>\n",
              "      <td>0.420000</td>\n",
              "      <td>0.000000</td>\n",
              "      <td>0.000000</td>\n",
              "    </tr>\n",
              "    <tr>\n",
              "      <th>25%</th>\n",
              "      <td>224.000000</td>\n",
              "      <td>0.000000</td>\n",
              "      <td>2.000000</td>\n",
              "      <td>21.500000</td>\n",
              "      <td>7.895800</td>\n",
              "      <td>0.000000</td>\n",
              "    </tr>\n",
              "    <tr>\n",
              "      <th>50%</th>\n",
              "      <td>446.000000</td>\n",
              "      <td>0.000000</td>\n",
              "      <td>3.000000</td>\n",
              "      <td>26.000000</td>\n",
              "      <td>14.454200</td>\n",
              "      <td>0.000000</td>\n",
              "    </tr>\n",
              "    <tr>\n",
              "      <th>75%</th>\n",
              "      <td>668.000000</td>\n",
              "      <td>1.000000</td>\n",
              "      <td>3.000000</td>\n",
              "      <td>36.000000</td>\n",
              "      <td>31.000000</td>\n",
              "      <td>1.000000</td>\n",
              "    </tr>\n",
              "    <tr>\n",
              "      <th>max</th>\n",
              "      <td>891.000000</td>\n",
              "      <td>1.000000</td>\n",
              "      <td>3.000000</td>\n",
              "      <td>80.000000</td>\n",
              "      <td>512.329200</td>\n",
              "      <td>10.000000</td>\n",
              "    </tr>\n",
              "  </tbody>\n",
              "</table>\n",
              "</div>"
            ],
            "text/plain": [
              "       PassengerId    Survived      Pclass         Age        Fare      Family\n",
              "count   889.000000  889.000000  889.000000  889.000000  889.000000  889.000000\n",
              "mean    446.000000    0.382452    2.311586   29.065433   32.096681    0.906637\n",
              "std     256.998173    0.486260    0.834700   13.270162   49.697504    1.614703\n",
              "min       1.000000    0.000000    1.000000    0.420000    0.000000    0.000000\n",
              "25%     224.000000    0.000000    2.000000   21.500000    7.895800    0.000000\n",
              "50%     446.000000    0.000000    3.000000   26.000000   14.454200    0.000000\n",
              "75%     668.000000    1.000000    3.000000   36.000000   31.000000    1.000000\n",
              "max     891.000000    1.000000    3.000000   80.000000  512.329200   10.000000"
            ]
          },
          "metadata": {
            "tags": []
          },
          "execution_count": 85
        }
      ]
    },
    {
      "cell_type": "code",
      "metadata": {
        "colab": {
          "base_uri": "https://localhost:8080/",
          "height": 0
        },
        "id": "DEVx4z4sLt4h",
        "outputId": "56f379cf-2677-4145-a7cc-eed932f7fbca"
      },
      "source": [
        "#Test data descriptive statistics\n",
        "df_test.describe()"
      ],
      "execution_count": 86,
      "outputs": [
        {
          "output_type": "execute_result",
          "data": {
            "text/html": [
              "<div>\n",
              "<style scoped>\n",
              "    .dataframe tbody tr th:only-of-type {\n",
              "        vertical-align: middle;\n",
              "    }\n",
              "\n",
              "    .dataframe tbody tr th {\n",
              "        vertical-align: top;\n",
              "    }\n",
              "\n",
              "    .dataframe thead th {\n",
              "        text-align: right;\n",
              "    }\n",
              "</style>\n",
              "<table border=\"1\" class=\"dataframe\">\n",
              "  <thead>\n",
              "    <tr style=\"text-align: right;\">\n",
              "      <th></th>\n",
              "      <th>PassengerId</th>\n",
              "      <th>Pclass</th>\n",
              "      <th>Age</th>\n",
              "      <th>Fare</th>\n",
              "      <th>Family</th>\n",
              "    </tr>\n",
              "  </thead>\n",
              "  <tbody>\n",
              "    <tr>\n",
              "      <th>count</th>\n",
              "      <td>417.000000</td>\n",
              "      <td>417.000000</td>\n",
              "      <td>417.000000</td>\n",
              "      <td>417.000000</td>\n",
              "      <td>417.000000</td>\n",
              "    </tr>\n",
              "    <tr>\n",
              "      <th>mean</th>\n",
              "      <td>1100.635492</td>\n",
              "      <td>2.263789</td>\n",
              "      <td>29.223022</td>\n",
              "      <td>35.627188</td>\n",
              "      <td>0.841727</td>\n",
              "    </tr>\n",
              "    <tr>\n",
              "      <th>std</th>\n",
              "      <td>120.923774</td>\n",
              "      <td>0.842077</td>\n",
              "      <td>12.964355</td>\n",
              "      <td>55.907576</td>\n",
              "      <td>1.520338</td>\n",
              "    </tr>\n",
              "    <tr>\n",
              "      <th>min</th>\n",
              "      <td>892.000000</td>\n",
              "      <td>1.000000</td>\n",
              "      <td>0.170000</td>\n",
              "      <td>0.000000</td>\n",
              "      <td>0.000000</td>\n",
              "    </tr>\n",
              "    <tr>\n",
              "      <th>25%</th>\n",
              "      <td>996.000000</td>\n",
              "      <td>1.000000</td>\n",
              "      <td>22.000000</td>\n",
              "      <td>7.895800</td>\n",
              "      <td>0.000000</td>\n",
              "    </tr>\n",
              "    <tr>\n",
              "      <th>50%</th>\n",
              "      <td>1101.000000</td>\n",
              "      <td>3.000000</td>\n",
              "      <td>25.000000</td>\n",
              "      <td>14.454200</td>\n",
              "      <td>0.000000</td>\n",
              "    </tr>\n",
              "    <tr>\n",
              "      <th>75%</th>\n",
              "      <td>1205.000000</td>\n",
              "      <td>3.000000</td>\n",
              "      <td>36.000000</td>\n",
              "      <td>31.500000</td>\n",
              "      <td>1.000000</td>\n",
              "    </tr>\n",
              "    <tr>\n",
              "      <th>max</th>\n",
              "      <td>1309.000000</td>\n",
              "      <td>3.000000</td>\n",
              "      <td>76.000000</td>\n",
              "      <td>512.329200</td>\n",
              "      <td>10.000000</td>\n",
              "    </tr>\n",
              "  </tbody>\n",
              "</table>\n",
              "</div>"
            ],
            "text/plain": [
              "       PassengerId      Pclass         Age        Fare      Family\n",
              "count   417.000000  417.000000  417.000000  417.000000  417.000000\n",
              "mean   1100.635492    2.263789   29.223022   35.627188    0.841727\n",
              "std     120.923774    0.842077   12.964355   55.907576    1.520338\n",
              "min     892.000000    1.000000    0.170000    0.000000    0.000000\n",
              "25%     996.000000    1.000000   22.000000    7.895800    0.000000\n",
              "50%    1101.000000    3.000000   25.000000   14.454200    0.000000\n",
              "75%    1205.000000    3.000000   36.000000   31.500000    1.000000\n",
              "max    1309.000000    3.000000   76.000000  512.329200   10.000000"
            ]
          },
          "metadata": {
            "tags": []
          },
          "execution_count": 86
        }
      ]
    },
    {
      "cell_type": "code",
      "metadata": {
        "colab": {
          "base_uri": "https://localhost:8080/"
        },
        "id": "qmPtipCiMFwS",
        "outputId": "4b050537-bb13-4354-a416-659b65dd2d79"
      },
      "source": [
        "for i in df_train.select_dtypes(include=np.number).columns.to_list():\n",
        "  print(i)\n",
        "  print(\"The skewness is:\", df_train[i].skew())\n",
        "  print(\"The kurtosis is:\", df_train[i].kurt())\n",
        "  s= abs(df_train[i].skew())\n",
        "  if s > 1:\n",
        "    print('\\nhighly skewed distribution')\n",
        "  else:\n",
        "    print('')\n",
        "  k = df_train[i].kurt()\n",
        "  if k >3:\n",
        "    print('\\nthe distribution is heavy-tailed(leptokutic)')\n",
        "  elif k < 3:\n",
        "    print('\\nDistribution is light tailed')\n",
        "  print(\"******\"*10)"
      ],
      "execution_count": 87,
      "outputs": [
        {
          "output_type": "stream",
          "text": [
            "PassengerId\n",
            "The skewness is: 0.0\n",
            "The kurtosis is: -1.197156421963046\n",
            "\n",
            "\n",
            "Distribution is light tailed\n",
            "************************************************************\n",
            "Survived\n",
            "The skewness is: 0.4845676297760328\n",
            "The kurtosis is: -1.7691794454365986\n",
            "\n",
            "\n",
            "Distribution is light tailed\n",
            "************************************************************\n",
            "Pclass\n",
            "The skewness is: -0.6369977585999191\n",
            "The kurtosis is: -1.2694374832322646\n",
            "\n",
            "\n",
            "Distribution is light tailed\n",
            "************************************************************\n",
            "Age\n",
            "The skewness is: 0.5325738791317377\n",
            "The kurtosis is: 0.7287292711659408\n",
            "\n",
            "\n",
            "Distribution is light tailed\n",
            "************************************************************\n",
            "Fare\n",
            "The skewness is: 4.801440211044194\n",
            "The kurtosis is: 33.508477269700144\n",
            "\n",
            "highly skewed distribution\n",
            "\n",
            "the distribution is heavy-tailed(leptokutic)\n",
            "************************************************************\n",
            "Family\n",
            "The skewness is: 2.723892053975516\n",
            "The kurtosis is: 9.13566385741382\n",
            "\n",
            "highly skewed distribution\n",
            "\n",
            "the distribution is heavy-tailed(leptokutic)\n",
            "************************************************************\n"
          ],
          "name": "stdout"
        }
      ]
    },
    {
      "cell_type": "code",
      "metadata": {
        "colab": {
          "base_uri": "https://localhost:8080/"
        },
        "id": "a-FJHYsVNMLi",
        "outputId": "1c288253-6b5d-499e-f30b-f296245d5608"
      },
      "source": [
        "#variance and standard deviation of the variables defined in our columns\n",
        "for i in df_train.select_dtypes(include=np.number).columns.to_list():\n",
        "  print(i)\n",
        "  print(f'standard deviation:  {df_train[i].std()}')\n",
        "  print(f'variance:  {df_train[i].var()}\\n')\n",
        "  print(\"******\"*10)"
      ],
      "execution_count": 88,
      "outputs": [
        {
          "output_type": "stream",
          "text": [
            "PassengerId\n",
            "standard deviation:  256.998172777183\n",
            "variance:  66048.06081081081\n",
            "\n",
            "************************************************************\n",
            "Survived\n",
            "standard deviation:  0.48625968831477473\n",
            "variance:  0.23644848447998187\n",
            "\n",
            "************************************************************\n",
            "Pclass\n",
            "standard deviation:  0.8346997785705771\n",
            "variance:  0.6967237203457705\n",
            "\n",
            "************************************************************\n",
            "Age\n",
            "standard deviation:  13.270161791950223\n",
            "variance:  176.09719398453552\n",
            "\n",
            "************************************************************\n",
            "Fare\n",
            "standard deviation:  49.69750431670801\n",
            "variance:  2469.8419353092113\n",
            "\n",
            "************************************************************\n",
            "Family\n",
            "standard deviation:  1.6147025929141483\n",
            "variance:  2.6072644635636735\n",
            "\n",
            "************************************************************\n"
          ],
          "name": "stdout"
        }
      ]
    },
    {
      "cell_type": "markdown",
      "metadata": {
        "id": "gIDF77ynE3-N"
      },
      "source": [
        "#### Univariate Exploratory visualizations"
      ]
    },
    {
      "cell_type": "code",
      "metadata": {
        "id": "PwBWfMqfFXf2"
      },
      "source": [
        "import seaborn as sns\n",
        "import matplotlib.pyplot as plt\n",
        "import warnings\n",
        "warnings.filterwarnings(\"ignore\")\n",
        "\n",
        "#Make a copy of the traing data\n",
        "df = df_train.copy(deep=True)"
      ],
      "execution_count": 89,
      "outputs": []
    },
    {
      "cell_type": "code",
      "metadata": {
        "colab": {
          "base_uri": "https://localhost:8080/",
          "height": 0
        },
        "id": "-32H620xTY0n",
        "outputId": "032931cd-63ed-4032-8749-988eb966283e"
      },
      "source": [
        "#Top 5 most popular age of passangers\n",
        "\n",
        "df.Age.value_counts().sort_values(ascending = False).nlargest(5).plot.barh(figsize=(10,5))\n",
        "plt.title('Most popular ages of the passangers')"
      ],
      "execution_count": 90,
      "outputs": [
        {
          "output_type": "execute_result",
          "data": {
            "text/plain": [
              "Text(0.5, 1.0, 'Most popular ages of the passangers')"
            ]
          },
          "metadata": {
            "tags": []
          },
          "execution_count": 90
        },
        {
          "output_type": "display_data",
          "data": {
            "image/png": "[encoded data removed]",
            "text/plain": [
              "<Figure size 720x360 with 1 Axes>"
            ]
          },
          "metadata": {
            "tags": []
          }
        }
      ]
    },
    {
      "cell_type": "code",
      "metadata": {
        "colab": {
          "base_uri": "https://localhost:8080/",
          "height": 0
        },
        "id": "kfUQ_lGnFcCG",
        "outputId": "c8a6bedc-58f7-4a03-ef75-8c1bb823caae"
      },
      "source": [
        "#Taitanic survivors vs non survivors\n",
        "\n",
        "sns.set(rc={'figure.figsize':(8,4)})\n",
        "sns.countplot(x='Survived',data=df_train)"
      ],
      "execution_count": 91,
      "outputs": [
        {
          "output_type": "execute_result",
          "data": {
            "text/plain": [
              "<matplotlib.axes._subplots.AxesSubplot at 0x7ffa9590f4d0>"
            ]
          },
          "metadata": {
            "tags": []
          },
          "execution_count": 91
        },
        {
          "output_type": "display_data",
          "data": {
            "image/png": "[encoded data removed]",
            "text/plain": [
              "<Figure size 576x288 with 1 Axes>"
            ]
          },
          "metadata": {
            "tags": []
          }
        }
      ]
    },
    {
      "cell_type": "markdown",
      "metadata": {
        "id": "teHKZuabip9N"
      },
      "source": [
        "#### Bivariate Analysis"
      ]
    },
    {
      "cell_type": "code",
      "metadata": {
        "colab": {
          "base_uri": "https://localhost:8080/",
          "height": 398
        },
        "id": "XsUyBQDVi60l",
        "outputId": "7dc032b5-57d4-4f65-f76e-e73afe691b4e"
      },
      "source": [
        "#Heatmap\n",
        "df1 = df.drop('PassengerId', axis=1)\n",
        "corr=df1.corr()\n",
        "plt.figure(figsize=(20,6))\n",
        "sns.heatmap(corr, annot=True,cmap=\"YlGnBu\")"
      ],
      "execution_count": 92,
      "outputs": [
        {
          "output_type": "execute_result",
          "data": {
            "text/plain": [
              "<matplotlib.axes._subplots.AxesSubplot at 0x7ffa9721ee10>"
            ]
          },
          "metadata": {
            "tags": []
          },
          "execution_count": 92
        },
        {
          "output_type": "display_data",
          "data": {
            "image/png": "[encoded data removed]",
            "text/plain": [
              "<Figure size 1440x432 with 2 Axes>"
            ]
          },
          "metadata": {
            "tags": []
          }
        }
      ]
    },
    {
      "cell_type": "markdown",
      "metadata": {
        "id": "0rCdsX9_j7eF"
      },
      "source": [
        "The correlation between the variables and survival of passanger was weak across all columns. Pclass and age have a weak negative correlation with survival while family and fare had a weak positve correlation with survival."
      ]
    },
    {
      "cell_type": "code",
      "metadata": {
        "colab": {
          "base_uri": "https://localhost:8080/",
          "height": 724
        },
        "id": "BfmIctS0kkRP",
        "outputId": "9665c38b-fba6-4771-cc59-e3bda3ce3fe4"
      },
      "source": [
        "# Ploting the bivariate summaries and recording our observations\n",
        "sns.pairplot(df1, hue = 'Survived')\n",
        "plt.show();"
      ],
      "execution_count": 93,
      "outputs": [
        {
          "output_type": "display_data",
          "data": {
            "image/png": "[encoded data removed]",
            "text/plain": [
              "<Figure size 781.55x720 with 20 Axes>"
            ]
          },
          "metadata": {
            "tags": []
          }
        }
      ]
    },
    {
      "cell_type": "code",
      "metadata": {
        "id": "eK1Kk0Y_K7Dr"
      },
      "source": [
        "#create a dataset of only non survivors\n",
        "Not_Survived = df[df['Survived']==0]\n",
        "\n",
        "#create a dataset of only survivors\n",
        "Survived = df[df['Survived']==1]\n"
      ],
      "execution_count": 94,
      "outputs": []
    },
    {
      "cell_type": "code",
      "metadata": {
        "colab": {
          "base_uri": "https://localhost:8080/",
          "height": 478
        },
        "id": "RB7xrs_OLtvL",
        "outputId": "504697dd-ac04-4108-cf31-9efe8bdf2424"
      },
      "source": [
        "#Compare survival of passagers based on Pclass\n",
        "\n",
        "#Distribution of passagers across the three classes\n",
        "x=df['Pclass'].value_counts()\n",
        "print('Number of passangers per class')\n",
        "print(x, '\\n\\n')\n",
        "\n",
        "#Plot\n",
        "sns.set(rc={'figure.figsize':(15,5)})\n",
        "fig , ax = plt.subplots(1,2)\n",
        "sns.countplot(Not_Survived['Pclass'], ax = ax[0])\n",
        "ax[0].set_title(' Not_Survived Pclass',)\n",
        "sns.countplot(Survived['Pclass'], ax = ax[1])\n",
        "ax[1].set_title('Survived Pclass')\n",
        "fig.show()\n",
        "\n"
      ],
      "execution_count": 95,
      "outputs": [
        {
          "output_type": "stream",
          "text": [
            "Number of passangers per class\n",
            "3    491\n",
            "1    214\n",
            "2    184\n",
            "Name: Pclass, dtype: int64 \n",
            "\n",
            "\n"
          ],
          "name": "stdout"
        },
        {
          "output_type": "display_data",
          "data": {
            "image/png": "[encoded data removed]",
            "text/plain": [
              "<Figure size 1080x360 with 2 Axes>"
            ]
          },
          "metadata": {
            "tags": []
          }
        }
      ]
    },
    {
      "cell_type": "markdown",
      "metadata": {
        "id": "Q9BxbWQSXAVK"
      },
      "source": [
        "> Most of the passagers on the ship were in Pclass 3. This explains why in the not survived plot, most of them were from Pclass.\n",
        "\n",
        "> The second plot shows that most of the survivors on the ship were from Pclass 1, which had the least number of passangers on the ship. This means that the passangers in this class ha an advantage over the other passangers.\n",
        "\n",
        "\n",
        "\n"
      ]
    },
    {
      "cell_type": "code",
      "metadata": {
        "colab": {
          "base_uri": "https://localhost:8080/",
          "height": 461
        },
        "id": "JMW-MEiKG0zt",
        "outputId": "2839711f-e599-4310-a369-1d2c903db67f"
      },
      "source": [
        "#Compare survival of passagers based on gender\n",
        "\n",
        "#Gender distribution of passagers \n",
        "x=df['Sex'].value_counts()\n",
        "print('Passanger gender distribution')\n",
        "print(x, '\\n\\n')\n",
        "\n",
        "#Plot\n",
        "sns.set(rc={'figure.figsize':(15,5)})\n",
        "fig , ax = plt.subplots(1,2)\n",
        "sns.countplot(Not_Survived['Sex'], ax = ax[0])\n",
        "ax[0].set_title(' Not_Survived Gender',)\n",
        "sns.countplot(Survived['Sex'], ax = ax[1])\n",
        "ax[1].set_title('Survived Gender')\n",
        "fig.show()\n",
        "\n"
      ],
      "execution_count": 96,
      "outputs": [
        {
          "output_type": "stream",
          "text": [
            "Passanger gender distribution\n",
            "male      577\n",
            "female    312\n",
            "Name: Sex, dtype: int64 \n",
            "\n",
            "\n"
          ],
          "name": "stdout"
        },
        {
          "output_type": "display_data",
          "data": {
            "image/png": "[encoded data removed]",
            "text/plain": [
              "<Figure size 1080x360 with 2 Axes>"
            ]
          },
          "metadata": {
            "tags": []
          }
        }
      ]
    },
    {
      "cell_type": "markdown",
      "metadata": {
        "id": "B9YSt4OEYrE8"
      },
      "source": [
        "> Most of the paasanger onboard were male, hence most of the passangers who did not survive are male.\n",
        "\n",
        "> Looking at the survivors we see that more women than men survived even though there were fewer women on the ship than men.\n",
        "\n",
        "\n",
        "\n"
      ]
    },
    {
      "cell_type": "code",
      "metadata": {
        "colab": {
          "base_uri": "https://localhost:8080/",
          "height": 585
        },
        "id": "jXwLHgrAa598",
        "outputId": "0f6ed1ef-fdf8-4899-ac55-6bb4ce0b4723"
      },
      "source": [
        "#Compare survival of passagers based on Family size onboard the ship\n",
        "\n",
        "#Count of passanger's family members \n",
        "x=df['Family'].value_counts()\n",
        "print(\"Count of passanger's family members\")\n",
        "print(x, '\\n\\n')\n",
        "\n",
        "#Plot\n",
        "sns.set(rc={'figure.figsize':(15,5)})\n",
        "fig , ax = plt.subplots(1,2)\n",
        "sns.countplot(Not_Survived['Family'], ax = ax[0])\n",
        "ax[0].set_title(' Not_Survived Family members onboard',)\n",
        "sns.countplot(Survived['Family'], ax = ax[1])\n",
        "ax[1].set_title('Survived Family members onboard')\n",
        "fig.show()"
      ],
      "execution_count": 97,
      "outputs": [
        {
          "output_type": "stream",
          "text": [
            "Count of passanger's family members\n",
            "0     535\n",
            "1     161\n",
            "2     102\n",
            "3      29\n",
            "5      22\n",
            "4      15\n",
            "6      12\n",
            "10      7\n",
            "7       6\n",
            "Name: Family, dtype: int64 \n",
            "\n",
            "\n"
          ],
          "name": "stdout"
        },
        {
          "output_type": "display_data",
          "data": {
            "image/png": "[encoded data removed]",
            "text/plain": [
              "<Figure size 1080x360 with 2 Axes>"
            ]
          },
          "metadata": {
            "tags": []
          }
        }
      ]
    },
    {
      "cell_type": "markdown",
      "metadata": {
        "id": "N4U0Oe2-b2F1"
      },
      "source": [
        "> Most of the passngers did not have family members with them on the ship. The plots show  that the ration of passangers that survived and those that didn't reflects this. \n",
        "\n",
        "> No passanger who had 7/10 family members on the ship survived. \n",
        "\n",
        "\n",
        "\n"
      ]
    },
    {
      "cell_type": "code",
      "metadata": {
        "colab": {
          "base_uri": "https://localhost:8080/",
          "height": 478
        },
        "id": "arLgS232HR3P",
        "outputId": "c4d1959d-6fe9-4134-9a1c-126cfc0655c1"
      },
      "source": [
        "#Compare survival of passagers based on Point of Embarke\n",
        "\n",
        "#Count of passanger's Embarked members \n",
        "x=df['Embarked'].value_counts()\n",
        "print(\"Count of passanger's point of embarked\")\n",
        "print(x, '\\n\\n')\n",
        "\n",
        "#Plot\n",
        "sns.set(rc={'figure.figsize':(15,5)})\n",
        "fig , ax = plt.subplots(1,2)\n",
        "sns.countplot(Not_Survived['Embarked'], ax = ax[0])\n",
        "ax[0].set_title(' Not_Survived Point of Embarked',)\n",
        "sns.countplot(Survived['Embarked'], ax = ax[1])\n",
        "ax[1].set_title('Survived Point of Embarked ')\n",
        "fig.show()\n"
      ],
      "execution_count": 98,
      "outputs": [
        {
          "output_type": "stream",
          "text": [
            "Count of passanger's point of embarked\n",
            "S    644\n",
            "C    168\n",
            "Q     77\n",
            "Name: Embarked, dtype: int64 \n",
            "\n",
            "\n"
          ],
          "name": "stdout"
        },
        {
          "output_type": "display_data",
          "data": {
            "image/png": "[encoded data removed]",
            "text/plain": [
              "<Figure size 1080x360 with 2 Axes>"
            ]
          },
          "metadata": {
            "tags": []
          }
        }
      ]
    },
    {
      "cell_type": "markdown",
      "metadata": {
        "id": "xa0HRnp6dIkE"
      },
      "source": [
        "> The ration between survivors and non survivors is appromimately the same and simmilar to the ration in the total number of passangers on the ship. This could mean that point of embark did not have much impact on whether the [passanger survivrd or not.\n",
        "\n"
      ]
    },
    {
      "cell_type": "code",
      "metadata": {
        "colab": {
          "base_uri": "https://localhost:8080/"
        },
        "id": "gvSozSukHNTo",
        "outputId": "30eacbe7-8df5-4c60-c90a-5bad5e324f40"
      },
      "source": [
        "#Compare survival of passagers based on Point of Embarke\n",
        "\n",
        "#Count of passanger's title members \n",
        "x=df['title'].value_counts()\n",
        "print(\"Total passanger's on the ship based on social class title\")\n",
        "print(x, '\\n\\n')\n",
        "\n",
        "# Number of passanger that survived\n",
        "x=Not_Survived['title'].value_counts()\n",
        "print(\"Count of passanger's the did not survive\")\n",
        "print(x, '\\n\\n')\n",
        "\n",
        "#Count of passanger's title members \n",
        "x=Survived['title'].value_counts()\n",
        "print(\"Count of passanger's that survived\")\n",
        "print(x, '\\n\\n')\n",
        "\n",
        "\n",
        "\n"
      ],
      "execution_count": 99,
      "outputs": [
        {
          "output_type": "stream",
          "text": [
            "Total passanger's on the ship based on social class title\n",
            "Commoner    866\n",
            "Doctor        7\n",
            "Clergy        6\n",
            "Noble         5\n",
            "Military      5\n",
            "Name: title, dtype: int64 \n",
            "\n",
            "\n",
            "Count of passanger's the did not survive\n",
            "Commoner    534\n",
            "Clergy        6\n",
            "Doctor        4\n",
            "Military      3\n",
            "Noble         2\n",
            "Name: title, dtype: int64 \n",
            "\n",
            "\n",
            "Count of passanger's that survived\n",
            "Commoner    332\n",
            "Doctor        3\n",
            "Noble         3\n",
            "Military      2\n",
            "Name: title, dtype: int64 \n",
            "\n",
            "\n"
          ],
          "name": "stdout"
        }
      ]
    },
    {
      "cell_type": "markdown",
      "metadata": {
        "id": "kCutjQA7fQkb"
      },
      "source": [
        "> No member of the clergy survived.\n",
        "\n"
      ]
    },
    {
      "cell_type": "markdown",
      "metadata": {
        "id": "WgDdFyn4oLlL"
      },
      "source": [
        "# 8. kNearest Neighbors Model"
      ]
    },
    {
      "cell_type": "code",
      "metadata": {
        "colab": {
          "base_uri": "https://localhost:8080/",
          "height": 110
        },
        "id": "zgw2X9JBGrm-",
        "outputId": "2c7a874e-6e37-45e0-9d79-2c8f7026050a"
      },
      "source": [
        "#Preview of the data\n",
        "df.head(2)"
      ],
      "execution_count": 100,
      "outputs": [
        {
          "output_type": "execute_result",
          "data": {
            "text/html": [
              "<div>\n",
              "<style scoped>\n",
              "    .dataframe tbody tr th:only-of-type {\n",
              "        vertical-align: middle;\n",
              "    }\n",
              "\n",
              "    .dataframe tbody tr th {\n",
              "        vertical-align: top;\n",
              "    }\n",
              "\n",
              "    .dataframe thead th {\n",
              "        text-align: right;\n",
              "    }\n",
              "</style>\n",
              "<table border=\"1\" class=\"dataframe\">\n",
              "  <thead>\n",
              "    <tr style=\"text-align: right;\">\n",
              "      <th></th>\n",
              "      <th>PassengerId</th>\n",
              "      <th>Survived</th>\n",
              "      <th>Pclass</th>\n",
              "      <th>Sex</th>\n",
              "      <th>Age</th>\n",
              "      <th>Fare</th>\n",
              "      <th>Embarked</th>\n",
              "      <th>title</th>\n",
              "      <th>Family</th>\n",
              "    </tr>\n",
              "  </thead>\n",
              "  <tbody>\n",
              "    <tr>\n",
              "      <th>0</th>\n",
              "      <td>1</td>\n",
              "      <td>0</td>\n",
              "      <td>3</td>\n",
              "      <td>male</td>\n",
              "      <td>22.0</td>\n",
              "      <td>7.2500</td>\n",
              "      <td>S</td>\n",
              "      <td>Commoner</td>\n",
              "      <td>1</td>\n",
              "    </tr>\n",
              "    <tr>\n",
              "      <th>1</th>\n",
              "      <td>2</td>\n",
              "      <td>1</td>\n",
              "      <td>1</td>\n",
              "      <td>female</td>\n",
              "      <td>38.0</td>\n",
              "      <td>71.2833</td>\n",
              "      <td>C</td>\n",
              "      <td>Commoner</td>\n",
              "      <td>1</td>\n",
              "    </tr>\n",
              "  </tbody>\n",
              "</table>\n",
              "</div>"
            ],
            "text/plain": [
              "   PassengerId  Survived  Pclass     Sex  ...     Fare  Embarked     title Family\n",
              "0            1         0       3    male  ...   7.2500         S  Commoner      1\n",
              "1            2         1       1  female  ...  71.2833         C  Commoner      1\n",
              "\n",
              "[2 rows x 9 columns]"
            ]
          },
          "metadata": {
            "tags": []
          },
          "execution_count": 100
        }
      ]
    },
    {
      "cell_type": "code",
      "metadata": {
        "id": "REz-lJ-UoXqo",
        "colab": {
          "base_uri": "https://localhost:8080/",
          "height": 202
        },
        "outputId": "fc8accca-7fdd-41eb-c6a4-4579ad17b4f3"
      },
      "source": [
        "#We will first label encode the categorical data\n",
        "from sklearn.preprocessing import LabelEncoder as LE\n",
        "le = LE()\n",
        "lb = LE()\n",
        "colms = [ 'Sex', 'Embarked','title']\n",
        "for i in colms:\n",
        "  l = le.fit(df[i])\n",
        "  df[i] = l.transform(df[i])\n",
        "  df_test[i] = lb.fit_transform(df_test[i])\n",
        "\n",
        "#Preview the data frame\n",
        "df.sample(5)"
      ],
      "execution_count": 101,
      "outputs": [
        {
          "output_type": "execute_result",
          "data": {
            "text/html": [
              "<div>\n",
              "<style scoped>\n",
              "    .dataframe tbody tr th:only-of-type {\n",
              "        vertical-align: middle;\n",
              "    }\n",
              "\n",
              "    .dataframe tbody tr th {\n",
              "        vertical-align: top;\n",
              "    }\n",
              "\n",
              "    .dataframe thead th {\n",
              "        text-align: right;\n",
              "    }\n",
              "</style>\n",
              "<table border=\"1\" class=\"dataframe\">\n",
              "  <thead>\n",
              "    <tr style=\"text-align: right;\">\n",
              "      <th></th>\n",
              "      <th>PassengerId</th>\n",
              "      <th>Survived</th>\n",
              "      <th>Pclass</th>\n",
              "      <th>Sex</th>\n",
              "      <th>Age</th>\n",
              "      <th>Fare</th>\n",
              "      <th>Embarked</th>\n",
              "      <th>title</th>\n",
              "      <th>Family</th>\n",
              "    </tr>\n",
              "  </thead>\n",
              "  <tbody>\n",
              "    <tr>\n",
              "      <th>613</th>\n",
              "      <td>614</td>\n",
              "      <td>0</td>\n",
              "      <td>3</td>\n",
              "      <td>1</td>\n",
              "      <td>25.0</td>\n",
              "      <td>7.7500</td>\n",
              "      <td>1</td>\n",
              "      <td>1</td>\n",
              "      <td>0</td>\n",
              "    </tr>\n",
              "    <tr>\n",
              "      <th>471</th>\n",
              "      <td>472</td>\n",
              "      <td>0</td>\n",
              "      <td>3</td>\n",
              "      <td>1</td>\n",
              "      <td>38.0</td>\n",
              "      <td>8.6625</td>\n",
              "      <td>2</td>\n",
              "      <td>1</td>\n",
              "      <td>0</td>\n",
              "    </tr>\n",
              "    <tr>\n",
              "      <th>392</th>\n",
              "      <td>393</td>\n",
              "      <td>0</td>\n",
              "      <td>3</td>\n",
              "      <td>1</td>\n",
              "      <td>28.0</td>\n",
              "      <td>7.9250</td>\n",
              "      <td>2</td>\n",
              "      <td>1</td>\n",
              "      <td>2</td>\n",
              "    </tr>\n",
              "    <tr>\n",
              "      <th>485</th>\n",
              "      <td>486</td>\n",
              "      <td>0</td>\n",
              "      <td>3</td>\n",
              "      <td>0</td>\n",
              "      <td>21.5</td>\n",
              "      <td>25.4667</td>\n",
              "      <td>2</td>\n",
              "      <td>1</td>\n",
              "      <td>4</td>\n",
              "    </tr>\n",
              "    <tr>\n",
              "      <th>522</th>\n",
              "      <td>523</td>\n",
              "      <td>0</td>\n",
              "      <td>3</td>\n",
              "      <td>1</td>\n",
              "      <td>25.0</td>\n",
              "      <td>7.2250</td>\n",
              "      <td>0</td>\n",
              "      <td>1</td>\n",
              "      <td>0</td>\n",
              "    </tr>\n",
              "  </tbody>\n",
              "</table>\n",
              "</div>"
            ],
            "text/plain": [
              "     PassengerId  Survived  Pclass  Sex   Age     Fare  Embarked  title  Family\n",
              "613          614         0       3    1  25.0   7.7500         1      1       0\n",
              "471          472         0       3    1  38.0   8.6625         2      1       0\n",
              "392          393         0       3    1  28.0   7.9250         2      1       2\n",
              "485          486         0       3    0  21.5  25.4667         2      1       4\n",
              "522          523         0       3    1  25.0   7.2250         0      1       0"
            ]
          },
          "metadata": {
            "tags": []
          },
          "execution_count": 101
        }
      ]
    },
    {
      "cell_type": "code",
      "metadata": {
        "colab": {
          "base_uri": "https://localhost:8080/",
          "height": 110
        },
        "id": "iTcdjbxuuucI",
        "outputId": "d1adfb4f-4fa0-4883-a7e8-676bc38abe7f"
      },
      "source": [
        "df_test.head(2)"
      ],
      "execution_count": 102,
      "outputs": [
        {
          "output_type": "execute_result",
          "data": {
            "text/html": [
              "<div>\n",
              "<style scoped>\n",
              "    .dataframe tbody tr th:only-of-type {\n",
              "        vertical-align: middle;\n",
              "    }\n",
              "\n",
              "    .dataframe tbody tr th {\n",
              "        vertical-align: top;\n",
              "    }\n",
              "\n",
              "    .dataframe thead th {\n",
              "        text-align: right;\n",
              "    }\n",
              "</style>\n",
              "<table border=\"1\" class=\"dataframe\">\n",
              "  <thead>\n",
              "    <tr style=\"text-align: right;\">\n",
              "      <th></th>\n",
              "      <th>PassengerId</th>\n",
              "      <th>Pclass</th>\n",
              "      <th>Sex</th>\n",
              "      <th>Age</th>\n",
              "      <th>Fare</th>\n",
              "      <th>Embarked</th>\n",
              "      <th>title</th>\n",
              "      <th>Family</th>\n",
              "    </tr>\n",
              "  </thead>\n",
              "  <tbody>\n",
              "    <tr>\n",
              "      <th>0</th>\n",
              "      <td>892</td>\n",
              "      <td>3</td>\n",
              "      <td>1</td>\n",
              "      <td>34.5</td>\n",
              "      <td>7.8292</td>\n",
              "      <td>1</td>\n",
              "      <td>1</td>\n",
              "      <td>0</td>\n",
              "    </tr>\n",
              "    <tr>\n",
              "      <th>1</th>\n",
              "      <td>893</td>\n",
              "      <td>3</td>\n",
              "      <td>0</td>\n",
              "      <td>47.0</td>\n",
              "      <td>7.0000</td>\n",
              "      <td>2</td>\n",
              "      <td>1</td>\n",
              "      <td>1</td>\n",
              "    </tr>\n",
              "  </tbody>\n",
              "</table>\n",
              "</div>"
            ],
            "text/plain": [
              "   PassengerId  Pclass  Sex   Age    Fare  Embarked  title  Family\n",
              "0          892       3    1  34.5  7.8292         1      1       0\n",
              "1          893       3    0  47.0  7.0000         2      1       1"
            ]
          },
          "metadata": {
            "tags": []
          },
          "execution_count": 102
        }
      ]
    },
    {
      "cell_type": "code",
      "metadata": {
        "id": "MDQqGueWrDed"
      },
      "source": [
        "#We define the dependent and independent features\n",
        "\n",
        "X = df.iloc[:, 2:]\n",
        "y = df['Survived']\n",
        "test_x = df_test.drop('PassengerId', axis=1)\n"
      ],
      "execution_count": 103,
      "outputs": []
    },
    {
      "cell_type": "code",
      "metadata": {
        "id": "KHDw0Ue8sYpu"
      },
      "source": [
        "# Normalizing the data  using minmax scaller. \n",
        "\n",
        "# Normalization is useful when your data has varying scales and the algorithm you are using does not make \n",
        "#      assumptions about the distribution of your data, such as k-nearest neighbors\n",
        "\n",
        "from sklearn.preprocessing import MinMaxScaler\n",
        "\n",
        "# define min max scaler\n",
        "scaler = MinMaxScaler()\n",
        "\n",
        "# transform data\n",
        "scaled = scaler.fit(X)\n",
        "X = scaled.transform(X)\n",
        "test_x = scaled.transform(test_x)"
      ],
      "execution_count": 104,
      "outputs": []
    },
    {
      "cell_type": "code",
      "metadata": {
        "colab": {
          "base_uri": "https://localhost:8080/"
        },
        "id": "6g0BGWNlv8Ca",
        "outputId": "2b7b515b-ecb9-479c-f259-d69109ac9492"
      },
      "source": [
        "# Split the train data into test and train data\n",
        "\n",
        "X_train, X_test, y_train, y_test = train_test_split(X, y, test_size=0.3, random_state=10)\n",
        "\n",
        "#shape or the sub dataset\n",
        "X_train.shape, X_test.shape, y_train.shape, y_test.shape "
      ],
      "execution_count": 105,
      "outputs": [
        {
          "output_type": "execute_result",
          "data": {
            "text/plain": [
              "((622, 7), (267, 7), (622,), (267,))"
            ]
          },
          "metadata": {
            "tags": []
          },
          "execution_count": 105
        }
      ]
    },
    {
      "cell_type": "code",
      "metadata": {
        "colab": {
          "base_uri": "https://localhost:8080/"
        },
        "id": "zbUQfMg6wVYx",
        "outputId": "19743789-9efa-4b4d-9b2e-95d17c59f470"
      },
      "source": [
        "#Training the Knn model\n",
        "\n",
        "from sklearn.neighbors import KNeighborsClassifier\n",
        "\n",
        "classifier = KNeighborsClassifier(n_neighbors=5, p = 1)\n",
        "classifier.fit(X_train, y_train)\n",
        "\n",
        "# Make predictions on our test data\n",
        "# ---\n",
        "# \n",
        "y_pred = classifier.predict(X_test)\n",
        "\n",
        "#Get the metrics of the model\n",
        "\n",
        "from sklearn.metrics import classification_report, confusion_matrix\n",
        "from sklearn import metrics\n",
        "from pprint import pprint\n",
        "print('KNN model using n= 5 \\n\\n')\n",
        "print(confusion_matrix(y_test, y_pred), '\\n\\n')\n",
        "print(classification_report(y_test, y_pred), '\\n\\n')\n",
        "print('Model accuracy is : ', metrics.accuracy_score(y_test, y_pred))\n"
      ],
      "execution_count": 106,
      "outputs": [
        {
          "output_type": "stream",
          "text": [
            "KNN model using n= 5 \n",
            "\n",
            "\n",
            "[[153  16]\n",
            " [ 31  67]] \n",
            "\n",
            "\n",
            "              precision    recall  f1-score   support\n",
            "\n",
            "           0       0.83      0.91      0.87       169\n",
            "           1       0.81      0.68      0.74        98\n",
            "\n",
            "    accuracy                           0.82       267\n",
            "   macro avg       0.82      0.79      0.80       267\n",
            "weighted avg       0.82      0.82      0.82       267\n",
            " \n",
            "\n",
            "\n",
            "Model accuracy is :  0.8239700374531835\n"
          ],
          "name": "stdout"
        }
      ]
    },
    {
      "cell_type": "markdown",
      "metadata": {
        "id": "x6JI6ZELFWmS"
      },
      "source": [
        "\n",
        "> The model gave an accuracy of 82.397%. Out of the 267 cases predicted, 220 were accurate and 47 were inaacurate.\n",
        "\n"
      ]
    },
    {
      "cell_type": "code",
      "metadata": {
        "id": "Cc4Tc6wsyWTM"
      },
      "source": [
        "#We will use grid search to find the best parameter to fine tune our model.\n",
        "from sklearn.model_selection import GridSearchCV\n",
        "\n",
        "#List Hyperparameters that we want to tune.\n",
        "leaf_size = list(range(1,50))\n",
        "n_neighbors = list(range(1,30))\n",
        "algorithm = ['auto', 'ball_tree', 'kd_tree', 'brute']\n",
        "weights = ['uniform', 'distance']\n",
        "metric = ['cosine','euclidean','manhattan']\n",
        "p=[1,2]\n",
        "#Convert to dictionary\n",
        "hyperparameters = dict(leaf_size=leaf_size, n_neighbors=n_neighbors, p=p,algorithm=algorithm,weights=weights,metric=metric)\n",
        "#Create new KNN object\n",
        "knn_2 = KNeighborsClassifier()\n",
        "#Use GridSearch\n",
        "clf = GridSearchCV(knn_2, hyperparameters, cv=10)\n",
        "#Fit the model\n",
        "best_model = clf.fit(X_train, y_train)\n"
      ],
      "execution_count": 107,
      "outputs": []
    },
    {
      "cell_type": "code",
      "metadata": {
        "id": "xD3UvGOoCLmM"
      },
      "source": [
        "#Print The value of best Hyperparameters\n",
        "print('Best leaf_size:', best_model.best_estimator_.get_params()['leaf_size']) #1\n",
        "print('Best p:', best_model.best_estimator_.get_params()['p']) #1\n",
        "print('Best n_neighbors:', best_model.best_estimator_.get_params()['n_neighbors']) #26\n",
        "print('Best metric:', best_model.best_estimator_.get_params()['metric']) #cosine\n",
        "print('Best algorithm:', best_model.best_estimator_.get_params()['algorithm']) # auto\n",
        "print('Best weights:', best_model.best_estimator_.get_params()['weights']) #uniform"
      ],
      "execution_count": 108,
      "outputs": []
    },
    {
      "cell_type": "code",
      "metadata": {
        "id": "MKDUSPjb0U8q"
      },
      "source": [
        "# Predict using the best model\n",
        "# Make predictions on our test data\n",
        "---\n",
        "# \n",
        "y_pred_best = best_model.predict(X_test)\n",
        "\n",
        "\n",
        "#Get the metrics of the model\n",
        "\n",
        "print(confusion_matrix(y_test, y_pred_best), '\\n\\n')\n",
        "print(classification_report(y_test, y_pred_best), '\\n\\n')\n",
        "print('Model accuracy is : ', metrics.accuracy_score(y_test, y_pred_best))\n"
      ],
      "execution_count": 109,
      "outputs": []
    },
    {
      "cell_type": "markdown",
      "metadata": {
        "id": "dsPlYpI7EEh-"
      },
      "source": [
        "The grid search best params give an accuracy of 80.899%. Out of the 267 cases predicted, 216 were accurate predictions while 51 were incorrently predicted.\n",
        "\n",
        "> 80% of non survivors were accuarately predicted and 85% of survivors were also accurately predicted.\n",
        "\n"
      ]
    },
    {
      "cell_type": "code",
      "metadata": {
        "colab": {
          "base_uri": "https://localhost:8080/"
        },
        "id": "SDk-hPpeGlTC",
        "outputId": "ef1612a7-9900-41b5-d511-9cfd31edc259"
      },
      "source": [
        "#The initail model get the best accuracy and thus it's the model we'll use using diffent train test split sizes.\n",
        "\n",
        "# Split the train data into test and train data\n",
        "\n",
        "X_train, X_test, y_train, y_test = train_test_split(X, y, test_size=0.1, random_state=10)\n",
        "\n",
        "#shape or the sub dataset\n",
        "print(X_train.shape, X_test.shape, y_train.shape, y_test.shape,'\\n\\n\\n')\n",
        "\n",
        "classifier = KNeighborsClassifier(n_neighbors=5, p = 1)\n",
        "classifier.fit(X_train, y_train)\n",
        "\n",
        "# Make predictions on our test data\n",
        "# ---\n",
        "# \n",
        "y_pred = classifier.predict(X_test)\n",
        "\n",
        "#Get the metrics of the model\n",
        "\n",
        "print('Using 10% of the data as the test size\\n')\n",
        "print(confusion_matrix(y_test, y_pred), '\\n\\n')\n",
        "print(classification_report(y_test, y_pred), '\\n\\n')\n",
        "print('Model accuracy is : ', metrics.accuracy_score(y_test, y_pred))"
      ],
      "execution_count": 110,
      "outputs": [
        {
          "output_type": "stream",
          "text": [
            "(800, 7) (89, 7) (800,) (89,) \n",
            "\n",
            "\n",
            "\n",
            "Using 10% of the data as the test size\n",
            "\n",
            "[[46  8]\n",
            " [13 22]] \n",
            "\n",
            "\n",
            "              precision    recall  f1-score   support\n",
            "\n",
            "           0       0.78      0.85      0.81        54\n",
            "           1       0.73      0.63      0.68        35\n",
            "\n",
            "    accuracy                           0.76        89\n",
            "   macro avg       0.76      0.74      0.75        89\n",
            "weighted avg       0.76      0.76      0.76        89\n",
            " \n",
            "\n",
            "\n",
            "Model accuracy is :  0.7640449438202247\n"
          ],
          "name": "stdout"
        }
      ]
    },
    {
      "cell_type": "markdown",
      "metadata": {
        "id": "iWbjE5RFHP3y"
      },
      "source": [
        "\n",
        "\n",
        "> Using  10% of the data as the test size gives an accuracy of 76.404%. Out of the 89 cases predicted, 68 were accurate predictions while 21 were incorrently predicted.\n",
        "\n",
        "> 78% of non survivors[0] were accuarately predicted and 73% of survivors[1] were also accurately predicted.\n",
        "\n"
      ]
    },
    {
      "cell_type": "code",
      "metadata": {
        "colab": {
          "base_uri": "https://localhost:8080/"
        },
        "id": "C92sdfLKDtZG",
        "outputId": "7b012e18-fe96-4616-d13d-12cdfc4fa02d"
      },
      "source": [
        "#The initail model get the best accuracy and thus it's the model we'll use using diffent train test split sizes.\n",
        "\n",
        "# Split the train data into test and train data\n",
        "\n",
        "X_train, X_test, y_train, y_test = train_test_split(X, y, test_size=0.2, random_state=10)\n",
        "\n",
        "#shape or the sub dataset\n",
        "print(X_train.shape, X_test.shape, y_train.shape, y_test.shape,'\\n\\n\\n')\n",
        "\n",
        "classifier = KNeighborsClassifier(n_neighbors=5, p = 1)\n",
        "classifier.fit(X_train, y_train)\n",
        "\n",
        "# Make predictions on our test data\n",
        "# ---\n",
        "# \n",
        "y_pred = classifier.predict(X_test)\n",
        "\n",
        "#Get the metrics of the model\n",
        "\n",
        "print('Using 20% of the data as the test size\\n')\n",
        "print(confusion_matrix(y_test, y_pred), '\\n\\n')\n",
        "print(classification_report(y_test, y_pred), '\\n\\n')\n",
        "print('Model accuracy is : ', metrics.accuracy_score(y_test, y_pred))\n"
      ],
      "execution_count": 111,
      "outputs": [
        {
          "output_type": "stream",
          "text": [
            "(711, 7) (178, 7) (711,) (178,) \n",
            "\n",
            "\n",
            "\n",
            "Using 20% of the data as the test size\n",
            "\n",
            "[[105  10]\n",
            " [ 19  44]] \n",
            "\n",
            "\n",
            "              precision    recall  f1-score   support\n",
            "\n",
            "           0       0.85      0.91      0.88       115\n",
            "           1       0.81      0.70      0.75        63\n",
            "\n",
            "    accuracy                           0.84       178\n",
            "   macro avg       0.83      0.81      0.82       178\n",
            "weighted avg       0.84      0.84      0.83       178\n",
            " \n",
            "\n",
            "\n",
            "Model accuracy is :  0.8370786516853933\n"
          ],
          "name": "stdout"
        }
      ]
    },
    {
      "cell_type": "markdown",
      "metadata": {
        "id": "JflC_5RyH8pK"
      },
      "source": [
        "> Using  20% of the data as the test size gives an accuracy of 83.708%. Out of the 178 cases predicted, 149 were accurate predictions while 29 were incorrently predicted.\n",
        "\n",
        "> 85% of non survivors[0] were accuarately predicted and 81% of survivors[1] were also accurately predicted."
      ]
    },
    {
      "cell_type": "code",
      "metadata": {
        "colab": {
          "base_uri": "https://localhost:8080/"
        },
        "id": "kQZvyCdxGrQB",
        "outputId": "2b33d67b-6de1-4d04-aad3-96fe97faffa4"
      },
      "source": [
        "#The initail model get the best accuracy and thus it's the model we'll use using diffent train test split sizes.\n",
        "\n",
        "# Split the train data into test and train data\n",
        "\n",
        "X_train, X_test, y_train, y_test = train_test_split(X, y, test_size=0.4, random_state=10)\n",
        "\n",
        "#shape or the sub dataset\n",
        "print(X_train.shape, X_test.shape, y_train.shape, y_test.shape,'\\n\\n\\n')\n",
        "\n",
        "classifier = KNeighborsClassifier(n_neighbors=5, p = 1)\n",
        "classifier.fit(X_train, y_train)\n",
        "\n",
        "# Make predictions on our test data\n",
        "# ---\n",
        "# \n",
        "y_pred = classifier.predict(X_test)\n",
        "\n",
        "#Get the metrics of the model\n",
        "\n",
        "print('Using 40% of the data as the test size\\n')\n",
        "print(confusion_matrix(y_test, y_pred), '\\n\\n')\n",
        "print(classification_report(y_test, y_pred), '\\n\\n')\n",
        "print('Model accuracy is : ', metrics.accuracy_score(y_test, y_pred))"
      ],
      "execution_count": 112,
      "outputs": [
        {
          "output_type": "stream",
          "text": [
            "(533, 7) (356, 7) (533,) (356,) \n",
            "\n",
            "\n",
            "\n",
            "Using 40% of the data as the test size\n",
            "\n",
            "[[198  24]\n",
            " [ 41  93]] \n",
            "\n",
            "\n",
            "              precision    recall  f1-score   support\n",
            "\n",
            "           0       0.83      0.89      0.86       222\n",
            "           1       0.79      0.69      0.74       134\n",
            "\n",
            "    accuracy                           0.82       356\n",
            "   macro avg       0.81      0.79      0.80       356\n",
            "weighted avg       0.82      0.82      0.81       356\n",
            " \n",
            "\n",
            "\n",
            "Model accuracy is :  0.8174157303370787\n"
          ],
          "name": "stdout"
        }
      ]
    },
    {
      "cell_type": "markdown",
      "metadata": {
        "id": "ohZxVOmyJ4Jp"
      },
      "source": [
        "> Using  40% of the data as the test size gives an accuracy of 81.74%. Out of the 356 cases predicted, 291 were accurate predictions while 65 were incorrently predicted.\n",
        "\n",
        "> 83% of non survivors[0] were accuarately predicted and 76% of survivors[1] were also accurately predicted."
      ]
    },
    {
      "cell_type": "code",
      "metadata": {
        "colab": {
          "base_uri": "https://localhost:8080/"
        },
        "id": "vP8zNVi-Gv5X",
        "outputId": "318cbcbd-e815-424e-a770-fea128a7db5b"
      },
      "source": [
        "#The initail model get the best accuracy and thus it's the model we'll use using diffent train test split sizes.\n",
        "\n",
        "# Split the train data into test and train data\n",
        "\n",
        "X_train, X_test, y_train, y_test = train_test_split(X, y, test_size=0.18, random_state=10)\n",
        "\n",
        "#shape or the sub dataset\n",
        "print(X_train.shape, X_test.shape, y_train.shape, y_test.shape,'\\n\\n\\n')\n",
        "\n",
        "classifier = KNeighborsClassifier(n_neighbors=5, p = 1)\n",
        "classifier.fit(X_train, y_train)\n",
        "\n",
        "# Make predictions on our test data\n",
        "# ---\n",
        "# \n",
        "y_pred = classifier.predict(X_test)\n",
        "\n",
        "#Get the metrics of the model\n",
        "\n",
        "print('Using 18% of the data as the test size\\n')\n",
        "print(confusion_matrix(y_test, y_pred), '\\n\\n')\n",
        "print(classification_report(y_test, y_pred), '\\n\\n')\n",
        "print('Model accuracy is : ', metrics.accuracy_score(y_test, y_pred))"
      ],
      "execution_count": 113,
      "outputs": [
        {
          "output_type": "stream",
          "text": [
            "(728, 7) (161, 7) (728,) (161,) \n",
            "\n",
            "\n",
            "\n",
            "Using 18% of the data as the test size\n",
            "\n",
            "[[93  9]\n",
            " [17 42]] \n",
            "\n",
            "\n",
            "              precision    recall  f1-score   support\n",
            "\n",
            "           0       0.85      0.91      0.88       102\n",
            "           1       0.82      0.71      0.76        59\n",
            "\n",
            "    accuracy                           0.84       161\n",
            "   macro avg       0.83      0.81      0.82       161\n",
            "weighted avg       0.84      0.84      0.84       161\n",
            " \n",
            "\n",
            "\n",
            "Model accuracy is :  0.8385093167701864\n"
          ],
          "name": "stdout"
        }
      ]
    },
    {
      "cell_type": "markdown",
      "metadata": {
        "id": "MFsJ6ij_Cuha"
      },
      "source": [
        "> Using  18% of the data as the test size gives an accuracy of 83.851%. Out of the 161 cases predicted, 135 were accurate predictions while 26 were incorrently predicted.\n",
        "\n",
        "> 85% of non survivors[0] were accuarately predicted and 82% of survivors[1] were also accurately predicted."
      ]
    },
    {
      "cell_type": "markdown",
      "metadata": {
        "id": "vTbdjSrhVIiT"
      },
      "source": [
        "## 9. Implementing the Solution"
      ]
    },
    {
      "cell_type": "code",
      "metadata": {
        "id": "PJLZaRzJXJ3w",
        "colab": {
          "base_uri": "https://localhost:8080/",
          "height": 355
        },
        "outputId": "c3b94bd3-1d7a-4ae8-caca-6714a04242c3"
      },
      "source": [
        "# Implementing the Solution\n",
        "#  We will then use the model to pedict whether the passengers in the test data survived or not.\n",
        "\n",
        "y_predicted = classifier.predict(test_x)\n",
        "\n",
        "#Add predictions to our test data\n",
        "df_test['Survived']= y_predicted\n",
        "\n",
        "\n",
        "#Preview the data\n",
        "df_test.head(10)"
      ],
      "execution_count": 114,
      "outputs": [
        {
          "output_type": "execute_result",
          "data": {
            "text/html": [
              "<div>\n",
              "<style scoped>\n",
              "    .dataframe tbody tr th:only-of-type {\n",
              "        vertical-align: middle;\n",
              "    }\n",
              "\n",
              "    .dataframe tbody tr th {\n",
              "        vertical-align: top;\n",
              "    }\n",
              "\n",
              "    .dataframe thead th {\n",
              "        text-align: right;\n",
              "    }\n",
              "</style>\n",
              "<table border=\"1\" class=\"dataframe\">\n",
              "  <thead>\n",
              "    <tr style=\"text-align: right;\">\n",
              "      <th></th>\n",
              "      <th>PassengerId</th>\n",
              "      <th>Pclass</th>\n",
              "      <th>Sex</th>\n",
              "      <th>Age</th>\n",
              "      <th>Fare</th>\n",
              "      <th>Embarked</th>\n",
              "      <th>title</th>\n",
              "      <th>Family</th>\n",
              "      <th>Survived</th>\n",
              "    </tr>\n",
              "  </thead>\n",
              "  <tbody>\n",
              "    <tr>\n",
              "      <th>0</th>\n",
              "      <td>892</td>\n",
              "      <td>3</td>\n",
              "      <td>1</td>\n",
              "      <td>34.5</td>\n",
              "      <td>7.8292</td>\n",
              "      <td>1</td>\n",
              "      <td>1</td>\n",
              "      <td>0</td>\n",
              "      <td>0</td>\n",
              "    </tr>\n",
              "    <tr>\n",
              "      <th>1</th>\n",
              "      <td>893</td>\n",
              "      <td>3</td>\n",
              "      <td>0</td>\n",
              "      <td>47.0</td>\n",
              "      <td>7.0000</td>\n",
              "      <td>2</td>\n",
              "      <td>1</td>\n",
              "      <td>1</td>\n",
              "      <td>0</td>\n",
              "    </tr>\n",
              "    <tr>\n",
              "      <th>2</th>\n",
              "      <td>894</td>\n",
              "      <td>2</td>\n",
              "      <td>1</td>\n",
              "      <td>62.0</td>\n",
              "      <td>9.6875</td>\n",
              "      <td>1</td>\n",
              "      <td>1</td>\n",
              "      <td>0</td>\n",
              "      <td>0</td>\n",
              "    </tr>\n",
              "    <tr>\n",
              "      <th>3</th>\n",
              "      <td>895</td>\n",
              "      <td>3</td>\n",
              "      <td>1</td>\n",
              "      <td>27.0</td>\n",
              "      <td>8.6625</td>\n",
              "      <td>2</td>\n",
              "      <td>1</td>\n",
              "      <td>0</td>\n",
              "      <td>1</td>\n",
              "    </tr>\n",
              "    <tr>\n",
              "      <th>4</th>\n",
              "      <td>896</td>\n",
              "      <td>3</td>\n",
              "      <td>0</td>\n",
              "      <td>22.0</td>\n",
              "      <td>12.2875</td>\n",
              "      <td>2</td>\n",
              "      <td>1</td>\n",
              "      <td>2</td>\n",
              "      <td>1</td>\n",
              "    </tr>\n",
              "    <tr>\n",
              "      <th>5</th>\n",
              "      <td>897</td>\n",
              "      <td>3</td>\n",
              "      <td>1</td>\n",
              "      <td>14.0</td>\n",
              "      <td>9.2250</td>\n",
              "      <td>2</td>\n",
              "      <td>1</td>\n",
              "      <td>0</td>\n",
              "      <td>0</td>\n",
              "    </tr>\n",
              "    <tr>\n",
              "      <th>6</th>\n",
              "      <td>898</td>\n",
              "      <td>3</td>\n",
              "      <td>0</td>\n",
              "      <td>30.0</td>\n",
              "      <td>7.6292</td>\n",
              "      <td>1</td>\n",
              "      <td>1</td>\n",
              "      <td>0</td>\n",
              "      <td>1</td>\n",
              "    </tr>\n",
              "    <tr>\n",
              "      <th>7</th>\n",
              "      <td>899</td>\n",
              "      <td>2</td>\n",
              "      <td>1</td>\n",
              "      <td>26.0</td>\n",
              "      <td>29.0000</td>\n",
              "      <td>2</td>\n",
              "      <td>1</td>\n",
              "      <td>2</td>\n",
              "      <td>0</td>\n",
              "    </tr>\n",
              "    <tr>\n",
              "      <th>8</th>\n",
              "      <td>900</td>\n",
              "      <td>3</td>\n",
              "      <td>0</td>\n",
              "      <td>18.0</td>\n",
              "      <td>7.2292</td>\n",
              "      <td>0</td>\n",
              "      <td>1</td>\n",
              "      <td>0</td>\n",
              "      <td>1</td>\n",
              "    </tr>\n",
              "    <tr>\n",
              "      <th>9</th>\n",
              "      <td>901</td>\n",
              "      <td>3</td>\n",
              "      <td>1</td>\n",
              "      <td>21.0</td>\n",
              "      <td>24.1500</td>\n",
              "      <td>2</td>\n",
              "      <td>1</td>\n",
              "      <td>2</td>\n",
              "      <td>0</td>\n",
              "    </tr>\n",
              "  </tbody>\n",
              "</table>\n",
              "</div>"
            ],
            "text/plain": [
              "   PassengerId  Pclass  Sex   Age     Fare  Embarked  title  Family  Survived\n",
              "0          892       3    1  34.5   7.8292         1      1       0         0\n",
              "1          893       3    0  47.0   7.0000         2      1       1         0\n",
              "2          894       2    1  62.0   9.6875         1      1       0         0\n",
              "3          895       3    1  27.0   8.6625         2      1       0         1\n",
              "4          896       3    0  22.0  12.2875         2      1       2         1\n",
              "5          897       3    1  14.0   9.2250         2      1       0         0\n",
              "6          898       3    0  30.0   7.6292         1      1       0         1\n",
              "7          899       2    1  26.0  29.0000         2      1       2         0\n",
              "8          900       3    0  18.0   7.2292         0      1       0         1\n",
              "9          901       3    1  21.0  24.1500         2      1       2         0"
            ]
          },
          "metadata": {
            "tags": []
          },
          "execution_count": 114
        }
      ]
    },
    {
      "cell_type": "markdown",
      "metadata": {
        "id": "lQ2G4ZPDVOXE"
      },
      "source": [
        "# 10. Challenging the solution"
      ]
    },
    {
      "cell_type": "markdown",
      "metadata": {
        "id": "jWVGKGuiYMWg"
      },
      "source": [
        "> The model was able to predict the test data at an 83% level of accuracy which is quite good. However there this is not the best accuracy as there was a big number of predictions that were inaacurately predicted(as seen in the confusion matrix). This means that this may not be the best model to predict this dataset.\n",
        "\n",
        "\n",
        "\n",
        "\n"
      ]
    },
    {
      "cell_type": "code",
      "metadata": {
        "id": "j3x3SXZ4XT_L",
        "colab": {
          "base_uri": "https://localhost:8080/"
        },
        "outputId": "654759b0-7813-4080-aa8f-42c4a8ff2053"
      },
      "source": [
        "# Reviewing the Solution \n",
        "#\n",
        "#Check survival ratio by gender\n",
        "df_test.groupby('Survived')['Sex'].value_counts(normalize = True) # The prediction reflects the actual/expected passenger reports."
      ],
      "execution_count": 120,
      "outputs": [
        {
          "output_type": "execute_result",
          "data": {
            "text/plain": [
              "Survived  Sex\n",
              "0         1      0.924303\n",
              "          0      0.075697\n",
              "1         0      0.801205\n",
              "          1      0.198795\n",
              "Name: Sex, dtype: float64"
            ]
          },
          "metadata": {
            "tags": []
          },
          "execution_count": 120
        }
      ]
    },
    {
      "cell_type": "markdown",
      "metadata": {
        "id": "xrmHVMVsVS--"
      },
      "source": [
        "# 11. Follow up questions"
      ]
    },
    {
      "cell_type": "markdown",
      "metadata": {
        "id": "HPQviDmNtta8"
      },
      "source": [
        "### a). Did we have the right data?\n",
        "\n",
        "* Yes we did. The dataset had all the neccessary and the validation done showed the data provided did reflect the reports published on the Taitanic passengers and survival reports. \n",
        "\n"
      ]
    },
    {
      "cell_type": "markdown",
      "metadata": {
        "id": "HSsicSdvt4Zs"
      },
      "source": [
        "### b). Did we have the right question?\n",
        "\n",
        "*  The main objective in this study was to predictict whether the passenger survived or not. Given the data and information available, we can conclude that this was the right question and it was well answered using the Knn Model."
      ]
    },
    {
      "cell_type": "markdown",
      "metadata": {
        "id": "2TUQbZUej6sO"
      },
      "source": [
        "# Conclusion \n",
        "\n",
        "\n",
        "> We were able to meet the goal we set for ourselves at the start of our investigation. We were able to develop a prediction model with an accuracy score of more than 80% using K-nearest neighbor, which we used to predict our test data.\n",
        "\n",
        "\n",
        "\n"
      ]
    }
  ]
}